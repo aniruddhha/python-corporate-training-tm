{
  "nbformat": 4,
  "nbformat_minor": 0,
  "metadata": {
    "colab": {
      "provenance": []
    },
    "kernelspec": {
      "name": "python3",
      "display_name": "Python 3"
    },
    "language_info": {
      "name": "python"
    }
  },
  "cells": [
    {
      "cell_type": "markdown",
      "source": [
        "## **Batch 02: Tue, 18 Mar 2025**"
      ],
      "metadata": {
        "id": "l417T77zj9Iq"
      }
    },
    {
      "cell_type": "code",
      "execution_count": 2,
      "metadata": {
        "colab": {
          "base_uri": "https://localhost:8080/"
        },
        "id": "VYPXCdx0jP8T",
        "outputId": "d2fad114-94ae-40ea-8fcb-86aa76af6ec9"
      },
      "outputs": [
        {
          "output_type": "stream",
          "name": "stdout",
          "text": [
            "Welcome to Python\n"
          ]
        }
      ],
      "source": [
        "print('Welcome to Python') # built-in function to show msg on output devices"
      ]
    },
    {
      "cell_type": "code",
      "source": [
        "# this is called comment\n",
        "print('This will be executed')"
      ],
      "metadata": {
        "colab": {
          "base_uri": "https://localhost:8080/"
        },
        "id": "iiNn5mexljn2",
        "outputId": "c1a26647-e95b-459c-da7c-af8b888c4eb5"
      },
      "execution_count": 3,
      "outputs": [
        {
          "output_type": "stream",
          "name": "stdout",
          "text": [
            "This will be executed\n"
          ]
        }
      ]
    },
    {
      "cell_type": "markdown",
      "source": [
        "# **Variables, Data Types and Operators**"
      ],
      "metadata": {
        "id": "fAffY5Zomt0y"
      }
    },
    {
      "cell_type": "code",
      "source": [
        "# age -> number\n",
        "56\n",
        "\n",
        "# name -> string\n",
        "'acvvv'\n",
        "\n",
        "# weight -> decimal number\n",
        "56.90\n",
        "\n",
        "# dibetic -> boolean\n",
        "False"
      ],
      "metadata": {
        "colab": {
          "base_uri": "https://localhost:8080/"
        },
        "id": "l6HQhCCom1nu",
        "outputId": "8a2087fa-e708-455b-f1a4-6b43ed6bbc15"
      },
      "execution_count": 4,
      "outputs": [
        {
          "output_type": "execute_result",
          "data": {
            "text/plain": [
              "False"
            ]
          },
          "metadata": {},
          "execution_count": 4
        }
      ]
    },
    {
      "cell_type": "code",
      "source": [
        "age = 56\n",
        "name = 'abc'\n",
        "weight = 56.90\n",
        "is_dibetic = False\n",
        "\n",
        "print(age)\n",
        "print(name)\n",
        "print(weight)\n",
        "print(is_dibetic)"
      ],
      "metadata": {
        "colab": {
          "base_uri": "https://localhost:8080/"
        },
        "id": "S2kOqY7woXN4",
        "outputId": "da63fa90-3a3f-47fd-f1e0-815709f17a5d"
      },
      "execution_count": 6,
      "outputs": [
        {
          "output_type": "stream",
          "name": "stdout",
          "text": [
            "56\n",
            "acvvv\n",
            "56.9\n",
            "False\n"
          ]
        }
      ]
    },
    {
      "cell_type": "code",
      "source": [
        "\n",
        "num1 = 89\n",
        "num2 = 23\n",
        "\n",
        "# Arithimatic Operators\n",
        "res = num1 + num2 # addition\n",
        "print(res)\n",
        "\n",
        "res = num1 - num2 # subtraction\n",
        "print(res)\n",
        "\n",
        "res = num1 * num2 # multiplication\n",
        "print(res)\n",
        "\n",
        "res = num1 / num2 # division\n",
        "print(res)\n",
        "\n",
        "res = num1 % num2 # modulo division\n",
        "print(res)\n",
        "\n",
        "# Logical Operators\n",
        "res = num1 > num2 # greater than\n",
        "print(res)\n",
        "\n",
        "res = num1 < num2 # less than\n",
        "print(res)"
      ],
      "metadata": {
        "colab": {
          "base_uri": "https://localhost:8080/"
        },
        "id": "jCGYnXVeqEk9",
        "outputId": "689bf308-1e99-4eec-f8c2-c5fad9f62c58"
      },
      "execution_count": 9,
      "outputs": [
        {
          "output_type": "stream",
          "name": "stdout",
          "text": [
            "112\n",
            "66\n",
            "2047\n",
            "3.869565217391304\n",
            "20\n",
            "True\n",
            "False\n"
          ]
        }
      ]
    },
    {
      "cell_type": "markdown",
      "source": [
        "# **Functions -> Methods -> Defenitions**"
      ],
      "metadata": {
        "id": "E2M7w2xrsdRo"
      }
    },
    {
      "cell_type": "code",
      "source": [
        "n1 = 67\n",
        "n2 = 43\n",
        "\n",
        "r = n1 + n2 # business logic\n",
        "print(r)"
      ],
      "metadata": {
        "colab": {
          "base_uri": "https://localhost:8080/"
        },
        "id": "n1-Rcr4pq30Q",
        "outputId": "344f42d0-ceba-4aea-803c-663e61db60c8"
      },
      "execution_count": 10,
      "outputs": [
        {
          "output_type": "stream",
          "name": "stdout",
          "text": [
            "110\n"
          ]
        }
      ]
    },
    {
      "cell_type": "code",
      "source": [
        "n1 = 45\n",
        "n2 = 43\n",
        "\n",
        "r = n1 + n2 # business logic\n",
        "print(r)"
      ],
      "metadata": {
        "colab": {
          "base_uri": "https://localhost:8080/"
        },
        "id": "1WsuemZ8s3SX",
        "outputId": "5c3df30a-c0e7-4c70-81b5-7f69733013f4"
      },
      "execution_count": 11,
      "outputs": [
        {
          "output_type": "stream",
          "name": "stdout",
          "text": [
            "88\n"
          ]
        }
      ]
    },
    {
      "cell_type": "code",
      "source": [
        "n1 = 78\n",
        "n2 = 90\n",
        "\n",
        "r = n1 + n2 # business logic\n",
        "print(r)"
      ],
      "metadata": {
        "colab": {
          "base_uri": "https://localhost:8080/"
        },
        "id": "urRC55bvs5SU",
        "outputId": "b883abf6-49dc-44a0-8485-13381bced144"
      },
      "execution_count": 12,
      "outputs": [
        {
          "output_type": "stream",
          "name": "stdout",
          "text": [
            "168\n"
          ]
        }
      ]
    },
    {
      "cell_type": "code",
      "source": [
        "# function defination\n",
        "def sum(nm1, nm2):\n",
        "  r = nm1 + nm2 # business logic\n",
        "  print(r)\n",
        "\n",
        "print('This is not the part of function')"
      ],
      "metadata": {
        "colab": {
          "base_uri": "https://localhost:8080/"
        },
        "id": "GDtMgkoqtG7U",
        "outputId": "6000813b-4312-4f78-e0a9-0239e0feec0d"
      },
      "execution_count": 21,
      "outputs": [
        {
          "output_type": "stream",
          "name": "stdout",
          "text": [
            "This is not the part of function\n"
          ]
        }
      ]
    },
    {
      "cell_type": "code",
      "source": [
        "# calling the functions\n",
        "\n",
        "sum(67, 43)\n",
        "sum(45, 43)\n",
        "sum(78, 90)"
      ],
      "metadata": {
        "colab": {
          "base_uri": "https://localhost:8080/"
        },
        "id": "mCARQfVVtw0E",
        "outputId": "8027837b-1c59-4475-99f8-4582e2051a04"
      },
      "execution_count": 22,
      "outputs": [
        {
          "output_type": "stream",
          "name": "stdout",
          "text": [
            "110\n",
            "88\n",
            "168\n"
          ]
        }
      ]
    },
    {
      "cell_type": "code",
      "source": [
        "# built-in functions\n",
        "print('This is built-in function')\n",
        "type(12)\n",
        "input('')"
      ],
      "metadata": {
        "colab": {
          "base_uri": "https://localhost:8080/"
        },
        "id": "zll9QfiYweKp",
        "outputId": "11982584-6923-425f-aab3-5d37c88249d4"
      },
      "execution_count": 25,
      "outputs": [
        {
          "output_type": "stream",
          "name": "stdout",
          "text": [
            "This is built-in function\n"
          ]
        },
        {
          "output_type": "execute_result",
          "data": {
            "text/plain": [
              "int"
            ]
          },
          "metadata": {},
          "execution_count": 25
        }
      ]
    },
    {
      "cell_type": "code",
      "source": [
        "nm = 'Android'\n",
        "print(type(nm))"
      ],
      "metadata": {
        "colab": {
          "base_uri": "https://localhost:8080/"
        },
        "id": "vOdx6mUKwpWU",
        "outputId": "708b931c-5aa8-43e7-e7da-53810fb44e1a"
      },
      "execution_count": 26,
      "outputs": [
        {
          "output_type": "stream",
          "name": "stdout",
          "text": [
            "<class 'str'>\n"
          ]
        }
      ]
    },
    {
      "cell_type": "markdown",
      "source": [
        "# **Conditional Statements (if, elif, else)**"
      ],
      "metadata": {
        "id": "xe4dHZmixFCq"
      }
    },
    {
      "cell_type": "code",
      "source": [
        "marks = 40\n",
        "\n",
        "if marks > 50:\n",
        "  print('First Class')\n",
        "elif marks >= 35 and marks < 50:\n",
        "  print('Second Class')\n",
        "else:\n",
        "  print('Fail')"
      ],
      "metadata": {
        "colab": {
          "base_uri": "https://localhost:8080/"
        },
        "id": "D2_xVQUuxEZK",
        "outputId": "140a1421-7aef-4d4f-a1c7-2fa9ceb98512"
      },
      "execution_count": 30,
      "outputs": [
        {
          "output_type": "stream",
          "name": "stdout",
          "text": [
            "Second Class\n"
          ]
        }
      ]
    },
    {
      "cell_type": "markdown",
      "source": [
        "# **Loops**"
      ],
      "metadata": {
        "id": "Zoq_XT0-yumS"
      }
    },
    {
      "cell_type": "code",
      "source": [
        "print('Hello World')\n",
        "print('Hello World')\n",
        "print('Hello World')\n",
        "print('Hello World')\n",
        "print('Hello World')"
      ],
      "metadata": {
        "colab": {
          "base_uri": "https://localhost:8080/"
        },
        "id": "9MsgknCuyx-c",
        "outputId": "760fa864-12c2-44ad-eac0-4b5644335dcf"
      },
      "execution_count": 31,
      "outputs": [
        {
          "output_type": "stream",
          "name": "stdout",
          "text": [
            "Hello World\n",
            "Hello World\n",
            "Hello World\n",
            "Hello World\n",
            "Hello World\n"
          ]
        }
      ]
    },
    {
      "cell_type": "code",
      "source": [
        "print('Hello World')\n",
        "print('Hello World')\n",
        "print('Hello World')\n",
        "print('Hello World')\n",
        "print('Hello World')\n",
        "print('Hello World')\n",
        "print('Hello World')\n",
        "print('Hello World')\n",
        "print('Hello World')\n",
        "print('Hello World')"
      ],
      "metadata": {
        "colab": {
          "base_uri": "https://localhost:8080/"
        },
        "id": "wzTiJ0Vyy9Rl",
        "outputId": "aa87a0b9-5ba9-42fb-fad2-f299cc953e2c"
      },
      "execution_count": 32,
      "outputs": [
        {
          "output_type": "stream",
          "name": "stdout",
          "text": [
            "Hello World\n",
            "Hello World\n",
            "Hello World\n",
            "Hello World\n",
            "Hello World\n",
            "Hello World\n",
            "Hello World\n",
            "Hello World\n",
            "Hello World\n",
            "Hello World\n"
          ]
        }
      ]
    },
    {
      "cell_type": "code",
      "source": [
        "for i in [1, 2, 3]:\n",
        "  print(f'Hello World {i}')"
      ],
      "metadata": {
        "colab": {
          "base_uri": "https://localhost:8080/"
        },
        "id": "hl_ZdlLdzKBG",
        "outputId": "2572d61e-338b-4d0a-cfa3-27c0b24f9e60"
      },
      "execution_count": 41,
      "outputs": [
        {
          "output_type": "stream",
          "name": "stdout",
          "text": [
            "Hello World 1\n",
            "Hello World 2\n",
            "Hello World 3\n"
          ]
        }
      ]
    },
    {
      "cell_type": "code",
      "source": [
        "for i in range(3):\n",
        "  print(f'Hello World {i}')"
      ],
      "metadata": {
        "colab": {
          "base_uri": "https://localhost:8080/"
        },
        "id": "UTgSfldIzksb",
        "outputId": "f5e83a9f-f33f-444a-aee4-baaf29568a02"
      },
      "execution_count": 44,
      "outputs": [
        {
          "output_type": "stream",
          "name": "stdout",
          "text": [
            "Hello World 0\n",
            "Hello World 1\n",
            "Hello World 2\n"
          ]
        }
      ]
    },
    {
      "cell_type": "code",
      "source": [
        "num = 566\n",
        "print(num)\n",
        "\n",
        "print('Number Assigned is 90')\n",
        "print(f'Number Assigned is {num}') # formatted ouputs"
      ],
      "metadata": {
        "colab": {
          "base_uri": "https://localhost:8080/"
        },
        "id": "h3k3qqNx5hFc",
        "outputId": "804cba6a-c8c3-4489-e43e-cb9e8b1a0bb3"
      },
      "execution_count": 39,
      "outputs": [
        {
          "output_type": "stream",
          "name": "stdout",
          "text": [
            "566\n",
            "Number Assigned is 90\n",
            "Number Assigned is 566\n"
          ]
        }
      ]
    },
    {
      "cell_type": "code",
      "source": [
        "day = input('Enter Day: ')\n",
        "print(day)"
      ],
      "metadata": {
        "colab": {
          "base_uri": "https://localhost:8080/"
        },
        "id": "52kQmYkg7pYG",
        "outputId": "e0d7868a-c348-47e1-bfc3-af8f49ec7501"
      },
      "execution_count": 48,
      "outputs": [
        {
          "output_type": "stream",
          "name": "stdout",
          "text": [
            "Enter Day: abc\n",
            "abc\n"
          ]
        }
      ]
    },
    {
      "cell_type": "code",
      "source": [
        "cnt = 0\n",
        "while cnt < 10:\n",
        "  print(f'Hello World {cnt}')\n",
        "  cnt = cnt + 1"
      ],
      "metadata": {
        "colab": {
          "base_uri": "https://localhost:8080/"
        },
        "id": "_wesER4n87zz",
        "outputId": "adcc107c-a975-4944-ad73-5068e9509469"
      },
      "execution_count": 49,
      "outputs": [
        {
          "output_type": "stream",
          "name": "stdout",
          "text": [
            "Hello World 0\n",
            "Hello World 1\n",
            "Hello World 2\n",
            "Hello World 3\n",
            "Hello World 4\n",
            "Hello World 5\n",
            "Hello World 6\n",
            "Hello World 7\n",
            "Hello World 8\n",
            "Hello World 9\n"
          ]
        }
      ]
    },
    {
      "cell_type": "code",
      "source": [
        "while True:\n",
        "  day = input('Enter Day') # assignment\n",
        "  print(day)\n",
        "\n",
        "  if day == 'sun': # Equality Check\n",
        "    break\n"
      ],
      "metadata": {
        "colab": {
          "base_uri": "https://localhost:8080/"
        },
        "id": "zkUp0JFn9Qe9",
        "outputId": "69bc4a23-7b63-4429-9f8d-49412d09b707"
      },
      "execution_count": 50,
      "outputs": [
        {
          "output_type": "stream",
          "name": "stdout",
          "text": [
            "Enter Daymon\n",
            "mon\n",
            "Enter Daytue\n",
            "tue\n",
            "Enter Daywed\n",
            "wed\n",
            "Enter Daysun\n",
            "sun\n"
          ]
        }
      ]
    },
    {
      "cell_type": "code",
      "source": [
        "10 == 10"
      ],
      "metadata": {
        "colab": {
          "base_uri": "https://localhost:8080/"
        },
        "id": "E_9-jxu19hSe",
        "outputId": "c2cac57a-06ec-4600-9ab0-41b96a861374"
      },
      "execution_count": 51,
      "outputs": [
        {
          "output_type": "execute_result",
          "data": {
            "text/plain": [
              "True"
            ]
          },
          "metadata": {},
          "execution_count": 51
        }
      ]
    },
    {
      "cell_type": "code",
      "source": [
        "10 == '10'"
      ],
      "metadata": {
        "colab": {
          "base_uri": "https://localhost:8080/"
        },
        "id": "2So2G_UC_xJN",
        "outputId": "a7effc42-2245-4d1f-9a9a-6825467e10cb"
      },
      "execution_count": 52,
      "outputs": [
        {
          "output_type": "execute_result",
          "data": {
            "text/plain": [
              "False"
            ]
          },
          "metadata": {},
          "execution_count": 52
        }
      ]
    },
    {
      "cell_type": "code",
      "source": [
        "type(10)"
      ],
      "metadata": {
        "colab": {
          "base_uri": "https://localhost:8080/"
        },
        "id": "-KbMByDt_2MA",
        "outputId": "38a772a6-f1e2-4a3f-a232-5c876292f657"
      },
      "execution_count": 53,
      "outputs": [
        {
          "output_type": "execute_result",
          "data": {
            "text/plain": [
              "int"
            ]
          },
          "metadata": {},
          "execution_count": 53
        }
      ]
    },
    {
      "cell_type": "code",
      "source": [
        "type('10')"
      ],
      "metadata": {
        "colab": {
          "base_uri": "https://localhost:8080/"
        },
        "id": "TeVppZSx_5bh",
        "outputId": "9e8e8959-c113-4a86-8e16-197b48017b52"
      },
      "execution_count": 54,
      "outputs": [
        {
          "output_type": "execute_result",
          "data": {
            "text/plain": [
              "str"
            ]
          },
          "metadata": {},
          "execution_count": 54
        }
      ]
    },
    {
      "cell_type": "markdown",
      "source": [
        "# **Data Structures**"
      ],
      "metadata": {
        "id": "AxIkY2W_Ahhh"
      }
    },
    {
      "cell_type": "code",
      "source": [
        "m1 = 90\n",
        "m2 = 67\n",
        "m3 = 23\n",
        "m4 = 78\n",
        "m5 = 12"
      ],
      "metadata": {
        "id": "MPBTwtm8AkZm"
      },
      "execution_count": 55,
      "outputs": []
    },
    {
      "cell_type": "code",
      "source": [
        "# List -> ordered\n",
        "marks1 = [90, 67, 23, 78, 12] # rectangular brackets\n",
        "print(marks1)\n",
        "marks1.append(56) # mutable -> data can be changed\n",
        "print(marks1)\n",
        "\n",
        "print(f'Marks of 1st Student {marks1[0]}') # accessing 0th element"
      ],
      "metadata": {
        "colab": {
          "base_uri": "https://localhost:8080/"
        },
        "id": "ubrxSySYA4MP",
        "outputId": "a149b69f-c6c5-4fdf-b5ff-e177e0b66d11"
      },
      "execution_count": 64,
      "outputs": [
        {
          "output_type": "stream",
          "name": "stdout",
          "text": [
            "[90, 67, 23, 78, 12]\n",
            "[90, 67, 23, 78, 12, 56]\n",
            "Marks of 1st Student 90\n"
          ]
        }
      ]
    },
    {
      "cell_type": "code",
      "source": [
        "# Tuple ->  ordered\n",
        "marks2 = (90, 67, 23, 78, 12) # round brackets\n",
        "print(marks2)\n",
        "#marks2.append(56) # immutable -> data cant not be modified\n",
        "#print(marks2)\n",
        "\n",
        "print(f'Marks of 1st Student {marks2[0]}') # accessing 0th element"
      ],
      "metadata": {
        "colab": {
          "base_uri": "https://localhost:8080/"
        },
        "id": "SuvFG1uHBNXh",
        "outputId": "37e6253c-0ee8-4fde-fc1a-61fc772cd783"
      },
      "execution_count": 65,
      "outputs": [
        {
          "output_type": "stream",
          "name": "stdout",
          "text": [
            "(90, 67, 23, 78, 12)\n",
            "Marks of 1st Student 90\n"
          ]
        }
      ]
    },
    {
      "cell_type": "code",
      "source": [
        "# Dictionary\n",
        "\n",
        "dc1 = { 'age': 40, 'name': 'abc', 'weight;': 78.90, 'is_dibetic': False }\n",
        "print(dc1)"
      ],
      "metadata": {
        "colab": {
          "base_uri": "https://localhost:8080/"
        },
        "id": "XbbReWrpDvJ4",
        "outputId": "8039b68c-2bb2-4610-df39-72d05ec5a76f"
      },
      "execution_count": 68,
      "outputs": [
        {
          "output_type": "stream",
          "name": "stdout",
          "text": [
            "{'age': 40, 'name': 'abc', 'weight;': 78.9, 'is_dibetic': False}\n"
          ]
        }
      ]
    },
    {
      "cell_type": "code",
      "source": [
        "patients = [\n",
        "    { 'age': 40, 'name': 'abc', 'weight;': 78.90, 'is_dibetic': False },\n",
        "    { 'age': 34, 'name': 'xyz', 'weight;': 67.90, 'is_dibetic': True },\n",
        "    { 'age': 23, 'name': 'pqr', 'weight;': 56.90, 'is_dibetic': False },\n",
        "    { 'age': 12, 'name': 'lmn', 'weight;': 45.90, 'is_dibetic': True },\n",
        "    { 'age': 56, 'name': 'mno', 'weight;': 34.90, 'is_dibetic': False }\n",
        "]"
      ],
      "metadata": {
        "id": "KgJ0xqNCFTAF"
      },
      "execution_count": null,
      "outputs": []
    },
    {
      "cell_type": "code",
      "source": [
        "# Set -> unordered -> duplicates are not allowed\n",
        "\n",
        "s1 = { 1, 3, 2, 3 ,4, 1, 2 }\n",
        "print(s1)\n",
        "\n",
        "s1.add(5)\n",
        "print(s1)"
      ],
      "metadata": {
        "colab": {
          "base_uri": "https://localhost:8080/"
        },
        "id": "MLqgbzGDFqXK",
        "outputId": "7f83be4f-dbfd-49f7-a5ff-33edd7427bd0"
      },
      "execution_count": 71,
      "outputs": [
        {
          "output_type": "stream",
          "name": "stdout",
          "text": [
            "{1, 2, 3, 4}\n",
            "{1, 2, 3, 4, 5}\n"
          ]
        }
      ]
    },
    {
      "cell_type": "code",
      "source": [
        "for i in s1:\n",
        "\n",
        "  if i > 10:\n",
        "    print(f'bigger value {i}')\n",
        "  else:\n",
        "    print(f'smaller value {i}')"
      ],
      "metadata": {
        "colab": {
          "base_uri": "https://localhost:8080/"
        },
        "id": "riX4G7ZhIPO0",
        "outputId": "913b5471-c124-4dc5-ece0-f6c6e8d4a9f4"
      },
      "execution_count": 74,
      "outputs": [
        {
          "output_type": "stream",
          "name": "stdout",
          "text": [
            "smaller value 1\n",
            "smaller value 2\n",
            "smaller value 3\n",
            "smaller value 4\n",
            "smaller value 5\n"
          ]
        }
      ]
    },
    {
      "cell_type": "code",
      "source": [
        "# prompt: generetae list comprehesations\n",
        "\n",
        "# List comprehension to extract ages from the 'patients' list\n",
        "ages = [patient['age'] for patient in patients]\n",
        "print(ages)\n",
        "\n",
        "\n",
        "# List comprehension to extract names of diabetic patients\n",
        "diabetic_names = [patient['name'] for patient in patients if patient['is_dibetic']]\n",
        "print(diabetic_names)\n",
        "\n",
        "\n",
        "# List comprehension to create a list of even numbers from 1 to 20\n",
        "even_numbers = [num for num in range(1, 21) if num % 2 == 0]\n",
        "print(even_numbers)\n",
        "\n",
        "\n",
        "# List comprehension to create a list of squares of numbers from 1 to 10\n",
        "squares = [num**2 for num in range(1, 11)]\n",
        "print(squares)\n",
        "\n",
        "\n",
        "# List comprehension to convert a list of strings to uppercase\n",
        "strings = ['hello', 'world', 'python']\n",
        "uppercase_strings = [string.upper() for string in strings]\n",
        "uppercase_strings\n",
        "\n"
      ],
      "metadata": {
        "id": "QmHJsoREJYfy"
      },
      "execution_count": null,
      "outputs": []
    },
    {
      "cell_type": "markdown",
      "source": [
        "https://www.learnpython.org/"
      ],
      "metadata": {
        "id": "JUa2LpF3N9p6"
      }
    }
  ]
}