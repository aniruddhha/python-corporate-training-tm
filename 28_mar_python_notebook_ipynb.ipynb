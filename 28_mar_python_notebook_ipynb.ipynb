{
  "nbformat": 4,
  "nbformat_minor": 0,
  "metadata": {
    "colab": {
      "provenance": []
    },
    "kernelspec": {
      "name": "python3",
      "display_name": "Python 3"
    },
    "language_info": {
      "name": "python"
    }
  },
  "cells": [
    {
      "cell_type": "markdown",
      "source": [
        "# **05 Batch Python Notebook**"
      ],
      "metadata": {
        "id": "UD5kYZLJEjj9"
      }
    },
    {
      "cell_type": "code",
      "execution_count": 5,
      "metadata": {
        "colab": {
          "base_uri": "https://localhost:8080/"
        },
        "id": "UQU0FyE1DAhj",
        "outputId": "e5b16415-7488-42bd-82f2-a0b066993d69"
      },
      "outputs": [
        {
          "output_type": "stream",
          "name": "stdout",
          "text": [
            "Welcome to Python\n"
          ]
        }
      ],
      "source": [
        "print('Welcome to Python')"
      ]
    },
    {
      "cell_type": "markdown",
      "source": [
        "## ***Variable, Data Types and Operators***"
      ],
      "metadata": {
        "id": "c2vrIc4GExHB"
      }
    },
    {
      "cell_type": "code",
      "source": [
        "'Abc'\n",
        "50\n",
        "50.23\n",
        "'none'\n",
        "True"
      ],
      "metadata": {
        "colab": {
          "base_uri": "https://localhost:8080/"
        },
        "id": "3GxTtD41E4pL",
        "outputId": "4a8e4f66-6d9b-4618-e75a-4f08dabbeb34"
      },
      "execution_count": 6,
      "outputs": [
        {
          "output_type": "execute_result",
          "data": {
            "text/plain": [
              "True"
            ]
          },
          "metadata": {},
          "execution_count": 6
        }
      ]
    },
    {
      "cell_type": "code",
      "source": [
        "# I will not execute this, because this is called comment\n",
        "\n",
        "print('I am python')\n",
        "# print('I am also python')"
      ],
      "metadata": {
        "colab": {
          "base_uri": "https://localhost:8080/"
        },
        "id": "JdyaZ5P8FTkT",
        "outputId": "00d44453-b049-47de-b6f9-694e9885f23f"
      },
      "execution_count": 8,
      "outputs": [
        {
          "output_type": "stream",
          "name": "stdout",
          "text": [
            "I am python\n"
          ]
        }
      ]
    },
    {
      "cell_type": "code",
      "source": [
        "# 'Abc' this value is of type string\n",
        "# 50 this value is of type integer\n",
        "# 50.23 this value is of type float\n",
        "# 'none' this value is again of string\n",
        "# True this value is of type boolean"
      ],
      "metadata": {
        "id": "r2dIyjOzIKzD"
      },
      "execution_count": 10,
      "outputs": []
    },
    {
      "cell_type": "code",
      "source": [
        "print(type('Abc'))\n",
        "print(type(50))\n",
        "print(type(50.23))\n",
        "print(type(\"none\"))\n",
        "print(type(True))"
      ],
      "metadata": {
        "colab": {
          "base_uri": "https://localhost:8080/"
        },
        "id": "hasY9VCrImQ1",
        "outputId": "cf5653c2-9b15-404c-c9ed-d8ae57330424"
      },
      "execution_count": 11,
      "outputs": [
        {
          "output_type": "stream",
          "name": "stdout",
          "text": [
            "<class 'str'>\n",
            "<class 'int'>\n",
            "<class 'float'>\n",
            "<class 'str'>\n",
            "<class 'bool'>\n"
          ]
        }
      ]
    },
    {
      "cell_type": "code",
      "source": [
        "name = 'OTTY'\n",
        "age = 50\n",
        "weight = 50.23\n",
        "physical_activity = 'none'\n",
        "is_dibetic = True"
      ],
      "metadata": {
        "id": "jRmRcxsYI0cd"
      },
      "execution_count": 20,
      "outputs": []
    },
    {
      "cell_type": "code",
      "source": [
        "print(name)\n",
        "print(age)\n",
        "print(weight)\n",
        "print(physical_activity)\n",
        "print(is_dibetic)"
      ],
      "metadata": {
        "colab": {
          "base_uri": "https://localhost:8080/"
        },
        "id": "XfOfitEpJH7-",
        "outputId": "7135c5d1-bddc-4811-833c-ed43fca168cc"
      },
      "execution_count": 21,
      "outputs": [
        {
          "output_type": "stream",
          "name": "stdout",
          "text": [
            "OTTY\n",
            "50\n",
            "50.23\n",
            "none\n",
            "True\n"
          ]
        }
      ]
    },
    {
      "cell_type": "code",
      "source": [
        "print('Name is name')\n",
        "print('Name is Abc')\n",
        "print(f'Name is {name}')"
      ],
      "metadata": {
        "colab": {
          "base_uri": "https://localhost:8080/"
        },
        "id": "S752g_DFJTYL",
        "outputId": "b4837992-589c-484f-f5a5-deeb3e345c02"
      },
      "execution_count": 22,
      "outputs": [
        {
          "output_type": "stream",
          "name": "stdout",
          "text": [
            "Name is name\n",
            "Name is Abc\n",
            "Name is OTTY\n"
          ]
        }
      ]
    },
    {
      "cell_type": "code",
      "source": [
        "num1 = 10\n",
        "num2 = 30\n",
        "\n",
        "# Arithmatic Operators\n",
        "res = num1 + num2 # Addition of 2 numbers\n",
        "print(f'Addition is {res}')\n",
        "\n",
        "res = num1 - num2 # Subtraction of 2 numbers\n",
        "print(f'Subtraction is {res}')\n",
        "\n",
        "res = num1 * num2 # Multiplication of 2 numbers\n",
        "print(f'Multiplication is {res}')\n",
        "\n",
        "res = num1 / num2 # Division of 2 numbers\n",
        "print(f'Division is {res}')\n",
        "\n",
        "# Comparision Operators\n",
        "res = num1 > num2 # Greater than\n",
        "print(f'Greater than is {res}')\n",
        "\n",
        "res = num1 < num2 # Less than\n",
        "print(f'Less than is {res}')\n",
        "\n",
        "res = num1 == num2 # Equal to\n",
        "print(f'Equal to is {res}')\n",
        "\n",
        "res = num1 != num2 # Not equal to\n",
        "print(f'Not equal to is {res}')"
      ],
      "metadata": {
        "colab": {
          "base_uri": "https://localhost:8080/"
        },
        "id": "sAjQDqnfLj7Y",
        "outputId": "c4378fe7-5ecf-40e4-c047-16ba3706bcbe"
      },
      "execution_count": 23,
      "outputs": [
        {
          "output_type": "stream",
          "name": "stdout",
          "text": [
            "Addition is 40\n",
            "Subtraction is -20\n",
            "Multiplication is 300\n",
            "Division is 0.3333333333333333\n",
            "Greater than is False\n",
            "Less than is True\n",
            "Equal to is False\n",
            "Not equal to is True\n"
          ]
        }
      ]
    },
    {
      "cell_type": "markdown",
      "source": [
        "## **Functions**"
      ],
      "metadata": {
        "id": "IliigICYNZpd"
      }
    },
    {
      "cell_type": "code",
      "source": [
        "num1 = 10\n",
        "num2 = 20\n",
        "\n",
        "res = num1 + num2 # this is the logic\n",
        "print(f'Addition is {res}')"
      ],
      "metadata": {
        "colab": {
          "base_uri": "https://localhost:8080/"
        },
        "id": "Sh_vIZ-LNWQR",
        "outputId": "1d420f9d-aaa9-4916-fbea-79fa92aaf18f"
      },
      "execution_count": 24,
      "outputs": [
        {
          "output_type": "stream",
          "name": "stdout",
          "text": [
            "Addition is 30\n"
          ]
        }
      ]
    },
    {
      "cell_type": "code",
      "source": [
        "num1 = 30\n",
        "num2 = 50\n",
        "\n",
        "res = num1 + num2 # this is the logic\n",
        "print(f'Addition is {res}')"
      ],
      "metadata": {
        "colab": {
          "base_uri": "https://localhost:8080/"
        },
        "id": "S_vfnsVGNq8F",
        "outputId": "b43cfa3a-00f8-4e54-d153-ddcef25bb643"
      },
      "execution_count": 25,
      "outputs": [
        {
          "output_type": "stream",
          "name": "stdout",
          "text": [
            "Addition is 80\n"
          ]
        }
      ]
    },
    {
      "cell_type": "code",
      "source": [
        "num1 = 89\n",
        "num2 = 73\n",
        "\n",
        "res = num1 + num2 # this is the logic\n",
        "print(f'Addition is {res}')"
      ],
      "metadata": {
        "colab": {
          "base_uri": "https://localhost:8080/"
        },
        "id": "YfARIx7uNycp",
        "outputId": "140e2440-4f0d-4f86-8dde-86d148750cea"
      },
      "execution_count": 26,
      "outputs": [
        {
          "output_type": "stream",
          "name": "stdout",
          "text": [
            "Addition is 162\n"
          ]
        }
      ]
    },
    {
      "cell_type": "code",
      "source": [
        "# things to note\n",
        "# n1, n2 are called parameters\n",
        "\n",
        "# def is keyword to define function\n",
        "# sum can be any name\n",
        "\n",
        "# tabs or intend is important\n",
        "\n",
        "# below is called function definiotion\n",
        "\n",
        "def sum(n1, n2):\n",
        "  res = n1 + n2\n",
        "  print(f'Addition is {res}')\n",
        "\n",
        "print('This is not the part of function')"
      ],
      "metadata": {
        "colab": {
          "base_uri": "https://localhost:8080/"
        },
        "id": "8Jsmu3zSN3Hj",
        "outputId": "bec88d37-6464-4f18-c9a1-44624df6b459"
      },
      "execution_count": 28,
      "outputs": [
        {
          "output_type": "stream",
          "name": "stdout",
          "text": [
            "This is not the part of function\n"
          ]
        }
      ]
    },
    {
      "cell_type": "code",
      "source": [
        "sum(10,20)\n",
        "sum(89,56)"
      ],
      "metadata": {
        "colab": {
          "base_uri": "https://localhost:8080/"
        },
        "id": "mSWWxDbbOiHa",
        "outputId": "ff373265-4123-409d-c05d-702b5908403c"
      },
      "execution_count": 29,
      "outputs": [
        {
          "output_type": "stream",
          "name": "stdout",
          "text": [
            "Addition is 30\n",
            "Addition is 145\n"
          ]
        }
      ]
    },
    {
      "cell_type": "code",
      "source": [
        "def sub(n1, n2):\n",
        "  res = n1 - n2\n",
        "  print(f'Subtraction is {res}')"
      ],
      "metadata": {
        "id": "LesE--yxSarr"
      },
      "execution_count": 30,
      "outputs": []
    },
    {
      "cell_type": "code",
      "source": [
        "def mul(n1, n2):\n",
        "  res = n1 * n2\n",
        "  print(f\"The multiplication of {n1} and {n2} is {res}\")"
      ],
      "metadata": {
        "id": "ujWyr0loSi4A"
      },
      "execution_count": 31,
      "outputs": []
    },
    {
      "cell_type": "code",
      "source": [
        "sum(45, 56)\n",
        "sub(89, 12)\n",
        "mul(89, 56)"
      ],
      "metadata": {
        "colab": {
          "base_uri": "https://localhost:8080/"
        },
        "id": "3aj9THd6Sq69",
        "outputId": "80674521-4232-40cb-e072-1d8f06271ce8"
      },
      "execution_count": 32,
      "outputs": [
        {
          "output_type": "stream",
          "name": "stdout",
          "text": [
            "Addition is 101\n",
            "Subtraction is 77\n",
            "The multiplication of 89 and 56 is 4984\n"
          ]
        }
      ]
    },
    {
      "cell_type": "markdown",
      "source": [
        "## ***Conditional Statements***"
      ],
      "metadata": {
        "id": "r8y51qUzTPCH"
      }
    },
    {
      "cell_type": "code",
      "source": [
        "marks = 30\n",
        "\n",
        "if marks >= 35:\n",
        "  print('Pass')\n",
        "else:\n",
        "  print('Fail')"
      ],
      "metadata": {
        "colab": {
          "base_uri": "https://localhost:8080/"
        },
        "id": "CxbuUcndS-l5",
        "outputId": "45e30862-6fbc-4800-c07e-4350c0b16ba3"
      },
      "execution_count": 34,
      "outputs": [
        {
          "output_type": "stream",
          "name": "stdout",
          "text": [
            "Fail\n"
          ]
        }
      ]
    },
    {
      "cell_type": "code",
      "source": [
        "# if elif else ladder\n",
        "\n",
        "day = 98\n",
        "\n",
        "if day == 0:\n",
        "    print(\"Sunday\")\n",
        "elif day == 1:\n",
        "    print(\"Monday\")\n",
        "elif day == 2:\n",
        "    print(\"Tuesday\")\n",
        "elif day == 3:\n",
        "    print(\"Wednesday\")\n",
        "elif day == 4:\n",
        "    print(\"Thursday\")\n",
        "elif day == 5:\n",
        "    print(\"Friday\")\n",
        "elif day == 6:\n",
        "    print(\"Saturday\")\n",
        "else:\n",
        "    print(\"Invalid day\")"
      ],
      "metadata": {
        "colab": {
          "base_uri": "https://localhost:8080/"
        },
        "id": "uhaw_df0T6az",
        "outputId": "7c05b53c-b0a4-46d7-b3a5-00e9f08062a5"
      },
      "execution_count": 37,
      "outputs": [
        {
          "output_type": "stream",
          "name": "stdout",
          "text": [
            "Invalid day\n"
          ]
        }
      ]
    },
    {
      "cell_type": "markdown",
      "source": [
        "## ***Loops***"
      ],
      "metadata": {
        "id": "PGZF-jr5VCtl"
      }
    },
    {
      "cell_type": "code",
      "source": [
        "print('Hello World')\n",
        "print('Hello World')\n",
        "print('Hello World')\n",
        "print('Hello World')\n",
        "print('Hello World')\n",
        "print('Hello World')"
      ],
      "metadata": {
        "colab": {
          "base_uri": "https://localhost:8080/"
        },
        "id": "CIvm04ZvZH5E",
        "outputId": "f56b3cf1-c523-4b0a-f35e-159c6a6f5d27"
      },
      "execution_count": 38,
      "outputs": [
        {
          "output_type": "stream",
          "name": "stdout",
          "text": [
            "Hello World\n",
            "Hello World\n",
            "Hello World\n",
            "Hello World\n",
            "Hello World\n",
            "Hello World\n"
          ]
        }
      ]
    },
    {
      "cell_type": "code",
      "source": [
        "print('Hello World')\n",
        "print('Hello World')\n",
        "print('Hello World')\n",
        "print('Hello World')\n",
        "print('Hello World')\n",
        "print('Hello World')\n",
        "print('Hello World')\n",
        "print('Hello World')\n",
        "print('Hello World')\n",
        "print('Hello World')\n",
        "print('Hello World')\n",
        "print('Hello World')"
      ],
      "metadata": {
        "colab": {
          "base_uri": "https://localhost:8080/"
        },
        "id": "qpIwhvqUZPFW",
        "outputId": "3a85874b-15d1-4d68-cf18-831186fa21d4"
      },
      "execution_count": 39,
      "outputs": [
        {
          "output_type": "stream",
          "name": "stdout",
          "text": [
            "Hello World\n",
            "Hello World\n",
            "Hello World\n",
            "Hello World\n",
            "Hello World\n",
            "Hello World\n",
            "Hello World\n",
            "Hello World\n",
            "Hello World\n",
            "Hello World\n",
            "Hello World\n",
            "Hello World\n"
          ]
        }
      ]
    },
    {
      "cell_type": "code",
      "source": [
        "# Loops\n",
        "# while - if dont know about condition go with while\n",
        "# for - if you know start and stop"
      ],
      "metadata": {
        "id": "JwFX5l8JZXrg"
      },
      "execution_count": null,
      "outputs": []
    },
    {
      "cell_type": "code",
      "source": [
        "cnt = 0\n",
        "\n",
        "while cnt < 10:\n",
        "  print('Hello World')\n",
        "  cnt = cnt + 1"
      ],
      "metadata": {
        "colab": {
          "base_uri": "https://localhost:8080/"
        },
        "id": "ZkIur3msZcAl",
        "outputId": "29a0d948-e405-4acc-ac8e-b0f96a23f9eb"
      },
      "execution_count": 42,
      "outputs": [
        {
          "output_type": "stream",
          "name": "stdout",
          "text": [
            "Hello World\n",
            "Hello World\n",
            "Hello World\n",
            "Hello World\n",
            "Hello World\n",
            "Hello World\n",
            "Hello World\n",
            "Hello World\n",
            "Hello World\n",
            "Hello World\n"
          ]
        }
      ]
    },
    {
      "cell_type": "code",
      "source": [
        "for i in [10, 56, 2, 56, 23]:\n",
        "  print('Hello World')"
      ],
      "metadata": {
        "colab": {
          "base_uri": "https://localhost:8080/"
        },
        "id": "fp7Sssg1bglj",
        "outputId": "d0c1e91d-2fd9-414c-fae6-1f07fff1c32d"
      },
      "execution_count": 43,
      "outputs": [
        {
          "output_type": "stream",
          "name": "stdout",
          "text": [
            "Hello World\n",
            "Hello World\n",
            "Hello World\n"
          ]
        }
      ]
    },
    {
      "cell_type": "code",
      "source": [
        "for i in range(300):\n",
        "  print(f'Hello World {i}')"
      ],
      "metadata": {
        "id": "3_yPLnKabvZe"
      },
      "execution_count": null,
      "outputs": []
    },
    {
      "cell_type": "markdown",
      "source": [
        "## ***Data Structures***"
      ],
      "metadata": {
        "id": "_g72ky5XdQcx"
      }
    },
    {
      "cell_type": "code",
      "source": [
        "# List - collection of ordered mutable data\n",
        "\n",
        "nums = [5, 78, 1, 6, 1 ,9, 11]\n",
        "print(nums)\n",
        "\n",
        "print(f'1st Element {nums[0]}')\n",
        "print(f'last Element {nums[6]}')\n",
        "\n",
        "nums[1] = 555\n",
        "print(nums)"
      ],
      "metadata": {
        "colab": {
          "base_uri": "https://localhost:8080/"
        },
        "id": "QcKFpoDmdWDL",
        "outputId": "ddb72889-8f8e-4e5e-faa9-2e0d07502360"
      },
      "execution_count": 50,
      "outputs": [
        {
          "output_type": "stream",
          "name": "stdout",
          "text": [
            "[5, 78, 1, 6, 1, 9, 11]\n",
            "1st Element 5\n",
            "last Element 11\n",
            "[5, 555, 1, 6, 1, 9, 11]\n"
          ]
        }
      ]
    },
    {
      "cell_type": "code",
      "source": [
        "# Tuple - collection of ordered immutable data\n",
        "nums = (5, 78, 1, 6, 1 ,9, 11)\n",
        "print(nums)\n",
        "\n",
        "print(f'1st Element {nums[0]}')\n",
        "print(f'last Element {nums[6]}')\n",
        "\n",
        "# nums[1] = 555\n",
        "print(nums)"
      ],
      "metadata": {
        "colab": {
          "base_uri": "https://localhost:8080/",
          "height": 251
        },
        "id": "mdbmwRqceGLI",
        "outputId": "475af4d4-ac0c-45ce-a7d6-8fb1ebdb810c"
      },
      "execution_count": 51,
      "outputs": [
        {
          "output_type": "stream",
          "name": "stdout",
          "text": [
            "(5, 78, 1, 6, 1, 9, 11)\n",
            "1st Element 5\n",
            "last Element 11\n"
          ]
        },
        {
          "output_type": "error",
          "ename": "TypeError",
          "evalue": "'tuple' object does not support item assignment",
          "traceback": [
            "\u001b[0;31m---------------------------------------------------------------------------\u001b[0m",
            "\u001b[0;31mTypeError\u001b[0m                                 Traceback (most recent call last)",
            "\u001b[0;32m<ipython-input-51-089bcd7635b6>\u001b[0m in \u001b[0;36m<cell line: 0>\u001b[0;34m()\u001b[0m\n\u001b[1;32m      6\u001b[0m \u001b[0mprint\u001b[0m\u001b[0;34m(\u001b[0m\u001b[0;34mf'last Element {nums[6]}'\u001b[0m\u001b[0;34m)\u001b[0m\u001b[0;34m\u001b[0m\u001b[0;34m\u001b[0m\u001b[0m\n\u001b[1;32m      7\u001b[0m \u001b[0;34m\u001b[0m\u001b[0m\n\u001b[0;32m----> 8\u001b[0;31m \u001b[0mnums\u001b[0m\u001b[0;34m[\u001b[0m\u001b[0;36m1\u001b[0m\u001b[0;34m]\u001b[0m \u001b[0;34m=\u001b[0m \u001b[0;36m555\u001b[0m\u001b[0;34m\u001b[0m\u001b[0;34m\u001b[0m\u001b[0m\n\u001b[0m\u001b[1;32m      9\u001b[0m \u001b[0mprint\u001b[0m\u001b[0;34m(\u001b[0m\u001b[0mnums\u001b[0m\u001b[0;34m)\u001b[0m\u001b[0;34m\u001b[0m\u001b[0;34m\u001b[0m\u001b[0m\n",
            "\u001b[0;31mTypeError\u001b[0m: 'tuple' object does not support item assignment"
          ]
        }
      ]
    },
    {
      "cell_type": "code",
      "source": [
        "# Dictionary - collection of key value pairs\n",
        "dc = {\n",
        "      'name' : 'abc',\n",
        "      'age' : 50,\n",
        "      'weight': 60,\n",
        "      'activity' : 'none',\n",
        "      'is_dibetic' : True\n",
        "    }\n",
        "print(dc)\n",
        "\n",
        "print(f\"Name is {dc['name']}\")\n",
        "print(f\"Age is {dc['age']}\")\n",
        "\n",
        "dc['height'] = 5.6\n",
        "\n",
        "print(dc)"
      ],
      "metadata": {
        "colab": {
          "base_uri": "https://localhost:8080/"
        },
        "id": "dj0l5fZReHew",
        "outputId": "26b75d03-31ed-4e91-e244-14030ea8f6a8"
      },
      "execution_count": 53,
      "outputs": [
        {
          "output_type": "stream",
          "name": "stdout",
          "text": [
            "{'name': 'abc', 'age': 50, 'weight': 60, 'activity': 'none', 'is_dibetic': True}\n",
            "Name is abc\n",
            "Age is 50\n",
            "{'name': 'abc', 'age': 50, 'weight': 60, 'activity': 'none', 'is_dibetic': True, 'height': 5.6}\n"
          ]
        }
      ]
    },
    {
      "cell_type": "code",
      "source": [
        "# Set - collection of unordered unique mutable data\n",
        "st = { 5, 78, 1, 6, 1 ,9, 11 }\n",
        "print(st)\n",
        "\n",
        "# print(f'1st Element {st[0]}')\n",
        "\n",
        "# st[1] = 555\n",
        "st.add(56)\n",
        "print(st)"
      ],
      "metadata": {
        "colab": {
          "base_uri": "https://localhost:8080/"
        },
        "id": "Gp9eTRU_eIsD",
        "outputId": "87e88f21-3012-41d2-c9c8-5c6251d10b64"
      },
      "execution_count": 58,
      "outputs": [
        {
          "output_type": "stream",
          "name": "stdout",
          "text": [
            "{1, 5, 6, 9, 11, 78}\n",
            "{1, 5, 6, 56, 9, 11, 78}\n",
            "[{1, 5, 6, 56, 9, 11, 78}]\n"
          ]
        }
      ]
    },
    {
      "cell_type": "code",
      "source": [
        "# print(st.pop())\n",
        "# print(st)\n",
        "lst = list(st)\n",
        "print(lst)\n",
        "print(lst[0])"
      ],
      "metadata": {
        "colab": {
          "base_uri": "https://localhost:8080/"
        },
        "id": "59kF3XHxkdUb",
        "outputId": "a36be932-990c-486f-93fe-1c82b61ca806"
      },
      "execution_count": 60,
      "outputs": [
        {
          "output_type": "stream",
          "name": "stdout",
          "text": [
            "[1, 5, 6, 56, 9, 11, 78]\n",
            "1\n"
          ]
        }
      ]
    },
    {
      "cell_type": "markdown",
      "source": [
        "## ***Error Handling***"
      ],
      "metadata": {
        "id": "v11o-Xyqk0I6"
      }
    },
    {
      "cell_type": "code",
      "source": [
        "st = '123'\n",
        "print(type(st))\n",
        "\n",
        "num = 123\n",
        "print(type(num))\n",
        "\n",
        "st_num = int(st) # type conversion -> string converted to integer\n",
        "print(st_num)\n",
        "print(type(st_num))"
      ],
      "metadata": {
        "colab": {
          "base_uri": "https://localhost:8080/"
        },
        "id": "fCNfGy5hkz2C",
        "outputId": "824edf28-63dd-4797-a257-2e330f533835"
      },
      "execution_count": 63,
      "outputs": [
        {
          "output_type": "stream",
          "name": "stdout",
          "text": [
            "<class 'str'>\n",
            "<class 'int'>\n",
            "123\n",
            "<class 'int'>\n"
          ]
        }
      ]
    },
    {
      "cell_type": "code",
      "source": [
        "try:\n",
        "  st = '1a' # it is expected that string represents number\n",
        "  num = int(st)\n",
        "except:\n",
        "  print('there is an error')"
      ],
      "metadata": {
        "colab": {
          "base_uri": "https://localhost:8080/"
        },
        "id": "OqT0IPLalQrf",
        "outputId": "b56739c2-4347-4c48-8fcb-fa38d530da43"
      },
      "execution_count": 71,
      "outputs": [
        {
          "output_type": "stream",
          "name": "stdout",
          "text": [
            "there is an error\n"
          ]
        }
      ]
    },
    {
      "cell_type": "markdown",
      "source": [
        "## ***Case Study***"
      ],
      "metadata": {
        "id": "YrM2WMJZoimG"
      }
    },
    {
      "cell_type": "code",
      "source": [
        "def show_menu():\n",
        "  print('1. Deposit')\n",
        "  print('2. Withdraw')\n",
        "  print('3. Balance')\n",
        "  print('4. Exit')\n",
        "\n",
        "while True:\n",
        "  show_menu()\n",
        "\n",
        "  choice = input('Enter Your Choice')\n",
        "  ch = int(choice)\n",
        "\n",
        "  if ch >= 4:\n",
        "    print('Bye Bye')\n",
        "    break\n",
        "  elif ch == 1:\n",
        "    print('User wants to Deposit Amount')\n",
        "  elif ch == 2:\n",
        "    print('User wants to Withdraw Amount')\n",
        "  elif ch == 3:\n",
        "    print('User Wants to check Balance')"
      ],
      "metadata": {
        "colab": {
          "base_uri": "https://localhost:8080/"
        },
        "id": "6_VJqlNqopBf",
        "outputId": "ad67b8b9-3e0d-4c16-809f-f228b4696ff7"
      },
      "execution_count": 75,
      "outputs": [
        {
          "output_type": "stream",
          "name": "stdout",
          "text": [
            "1. Deposit\n",
            "2. Withdraw\n",
            "3. Balance\n",
            "4. Exit\n",
            "Enter Your Choice798\n",
            "Bye Bye\n"
          ]
        }
      ]
    },
    {
      "cell_type": "markdown",
      "source": [
        "## ***Future Learning***"
      ],
      "metadata": {
        "id": "YWGxiMLmqOr7"
      }
    },
    {
      "cell_type": "markdown",
      "source": [
        "- Numpy: Data Manipulatin\n",
        "- Pandas: Data Analysis\n",
        "- Matplotlib: Data Visulization"
      ],
      "metadata": {
        "id": "L9fsGmemqTly"
      }
    },
    {
      "cell_type": "markdown",
      "source": [
        "## ***Material***\n",
        "https://www.learnpython.org/"
      ],
      "metadata": {
        "id": "BtxwJHnrrfFG"
      }
    }
  ]
}