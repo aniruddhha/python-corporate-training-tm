{
  "nbformat": 4,
  "nbformat_minor": 0,
  "metadata": {
    "colab": {
      "provenance": []
    },
    "kernelspec": {
      "name": "python3",
      "display_name": "Python 3"
    },
    "language_info": {
      "name": "python"
    }
  },
  "cells": [
    {
      "cell_type": "markdown",
      "source": [
        "# **First Day**"
      ],
      "metadata": {
        "id": "OgmGrnAtca4f"
      }
    },
    {
      "cell_type": "markdown",
      "source": [
        "***Understanding of Colab***"
      ],
      "metadata": {
        "id": "cE69DhofcjRr"
      }
    },
    {
      "cell_type": "code",
      "execution_count": null,
      "metadata": {
        "colab": {
          "base_uri": "https://localhost:8080/"
        },
        "id": "Hi-FYhtYYECV",
        "outputId": "6c079de9-4e10-4e2b-95c9-6152c59ac580"
      },
      "outputs": [
        {
          "output_type": "stream",
          "name": "stdout",
          "text": [
            "Hello World\n"
          ]
        }
      ],
      "source": [
        "print('Hello World') # case sensitive"
      ]
    },
    {
      "cell_type": "code",
      "source": [
        "print(\"Hello World\");"
      ],
      "metadata": {
        "colab": {
          "base_uri": "https://localhost:8080/"
        },
        "id": "WKudzWSrb5Bz",
        "outputId": "376ce9e4-412f-4018-8571-ce8ed26e6b23"
      },
      "execution_count": null,
      "outputs": [
        {
          "output_type": "stream",
          "name": "stdout",
          "text": [
            "Hello World\n"
          ]
        }
      ]
    },
    {
      "cell_type": "markdown",
      "source": [
        "***Variables and Data Types***"
      ],
      "metadata": {
        "id": "qeKup70Fcs6r"
      }
    },
    {
      "cell_type": "code",
      "source": [
        "10"
      ],
      "metadata": {
        "colab": {
          "base_uri": "https://localhost:8080/"
        },
        "id": "Ox4Y7mi3caAb",
        "outputId": "e92aecd2-201d-4607-f8c4-c4cbcf0e3845"
      },
      "execution_count": null,
      "outputs": [
        {
          "output_type": "execute_result",
          "data": {
            "text/plain": [
              "10"
            ]
          },
          "metadata": {},
          "execution_count": 5
        }
      ]
    },
    {
      "cell_type": "code",
      "source": [
        "num1=10\n",
        "num2=10\n",
        "\n",
        "res=num1+num2\n",
        "print(res)"
      ],
      "metadata": {
        "colab": {
          "base_uri": "https://localhost:8080/"
        },
        "id": "gI6IUoM_dF5D",
        "outputId": "4b855695-7084-4fc6-e724-0c45b1967148"
      },
      "execution_count": null,
      "outputs": [
        {
          "output_type": "stream",
          "name": "stdout",
          "text": [
            "20\n"
          ]
        }
      ]
    },
    {
      "cell_type": "code",
      "source": [
        "print(type(num1))"
      ],
      "metadata": {
        "colab": {
          "base_uri": "https://localhost:8080/"
        },
        "id": "vVNX_gWBdVgu",
        "outputId": "854bd79f-86fe-4dd7-ee8d-b7eff3a48130"
      },
      "execution_count": null,
      "outputs": [
        {
          "output_type": "stream",
          "name": "stdout",
          "text": [
            "<class 'int'>\n"
          ]
        }
      ]
    },
    {
      "cell_type": "code",
      "source": [
        "age = 30  # integer\n",
        "print(type(age))\n",
        "name = \"abc\" # string\n",
        "print(type(name))\n",
        "sal = 45.78 # float\n",
        "print(type(sal))\n",
        "is_perm = False # boolean\n",
        "print(type(is_perm))"
      ],
      "metadata": {
        "colab": {
          "base_uri": "https://localhost:8080/"
        },
        "id": "7VsO9kDpef5Y",
        "outputId": "0be62b9b-7e01-4d04-89ad-1bbe33b173d0"
      },
      "execution_count": null,
      "outputs": [
        {
          "output_type": "stream",
          "name": "stdout",
          "text": [
            "<class 'int'>\n",
            "<class 'str'>\n",
            "<class 'float'>\n",
            "<class 'bool'>\n"
          ]
        }
      ]
    },
    {
      "cell_type": "code",
      "source": [
        "num1 = 10 # over write\n",
        "num2 = 20\n",
        "\n",
        "# arithmatic\n",
        "res1 = num1 + num1 # addition\n",
        "res2 = num1 - num2 # subtraction\n",
        "res3 = num1 * num2 # multiplication\n",
        "res4 = num1 / num2 # division\n",
        "res5 = num1 % num2 # modulo division\n",
        "\n",
        "print(res1)\n",
        "print(res2)\n",
        "print(res3)\n",
        "print(res4)\n",
        "print(res5)\n",
        "\n",
        "# logical -> Boolean\n",
        "res6 = num1 > num2 # greater than\n",
        "res7 = num1 < num2 # less than\n",
        "res8 = num1 == num2 # equal to\n",
        "res9 = num1 != num2 # not equal to\n",
        "\n",
        "print(res6)\n",
        "print(res7)\n",
        "print(res8)\n",
        "print(res9)"
      ],
      "metadata": {
        "colab": {
          "base_uri": "https://localhost:8080/"
        },
        "id": "nRjmCFxOgtk0",
        "outputId": "ba7c3c58-de23-403e-e120-eb7e28423c69"
      },
      "execution_count": null,
      "outputs": [
        {
          "output_type": "stream",
          "name": "stdout",
          "text": [
            "20\n",
            "-10\n",
            "200\n",
            "0.5\n",
            "10\n",
            "False\n",
            "True\n",
            "False\n",
            "True\n"
          ]
        }
      ]
    },
    {
      "cell_type": "code",
      "source": [
        "num1 = 10\n",
        "num2 = 20\n",
        "\n",
        "res = num1 + num2\n",
        "print(res)"
      ],
      "metadata": {
        "colab": {
          "base_uri": "https://localhost:8080/"
        },
        "id": "YdlJ_ngSjAvi",
        "outputId": "82aa498c-0189-4920-c9e2-bf7ed5e73162"
      },
      "execution_count": null,
      "outputs": [
        {
          "output_type": "stream",
          "name": "stdout",
          "text": [
            "30\n"
          ]
        }
      ]
    },
    {
      "cell_type": "code",
      "source": [
        "# method, function, definitaion\n",
        "def add_any_nums(n1, n2): # accepting numbers\n",
        "  res = n1 + n2 # performing logic\n",
        "  print(res) # presenting results"
      ],
      "metadata": {
        "id": "mq7SwzmajLmp"
      },
      "execution_count": null,
      "outputs": []
    },
    {
      "cell_type": "code",
      "source": [
        "add_any_nums(34, 89)\n",
        "add_any_nums(23, 90)\n",
        "add_any_nums(3, 3)\n",
        "add_any_nums(34, 89)"
      ],
      "metadata": {
        "colab": {
          "base_uri": "https://localhost:8080/"
        },
        "id": "EB-ft4GNjfnM",
        "outputId": "b8e05638-f7ca-45b9-fe55-275c75305766"
      },
      "execution_count": null,
      "outputs": [
        {
          "output_type": "stream",
          "name": "stdout",
          "text": [
            "123\n",
            "113\n",
            "6\n",
            "123\n"
          ]
        }
      ]
    },
    {
      "cell_type": "code",
      "source": [
        "marks = 67\n",
        "\n",
        "if marks > 35:\n",
        "  print(\"Pass\")\n",
        "else:\n",
        "  print(\"Fail\")"
      ],
      "metadata": {
        "colab": {
          "base_uri": "https://localhost:8080/"
        },
        "id": "x5igG8TJlont",
        "outputId": "ad1a7bdb-a74e-4b44-e47c-3eb75b181f7b"
      },
      "execution_count": null,
      "outputs": [
        {
          "output_type": "stream",
          "name": "stdout",
          "text": [
            "Pass\n"
          ]
        }
      ]
    },
    {
      "cell_type": "code",
      "source": [
        "def test_marks(marks):\n",
        "  if marks > 35:\n",
        "    print(\"Pass\")\n",
        "  else:\n",
        "    print(\"Fail\")"
      ],
      "metadata": {
        "id": "MkLnbe9rmqLi"
      },
      "execution_count": null,
      "outputs": []
    },
    {
      "cell_type": "code",
      "source": [
        "test_marks(78)\n",
        "test_marks(67)"
      ],
      "metadata": {
        "colab": {
          "base_uri": "https://localhost:8080/"
        },
        "id": "WKv7HEp8mudm",
        "outputId": "246e26e4-ed86-4efd-ee2f-c356635cf500"
      },
      "execution_count": null,
      "outputs": [
        {
          "output_type": "stream",
          "name": "stdout",
          "text": [
            "Pass\n",
            "Pass\n"
          ]
        }
      ]
    },
    {
      "cell_type": "code",
      "source": [
        "print(\"Hello World\")\n",
        "print(\"Hello World\")\n",
        "print(\"Hello World\")\n",
        "print(\"Hello World\")\n",
        "print(\"Hello World\")"
      ],
      "metadata": {
        "colab": {
          "base_uri": "https://localhost:8080/"
        },
        "id": "0KDnN71hoHRK",
        "outputId": "78b585da-01eb-4403-b972-05c78edffca5"
      },
      "execution_count": null,
      "outputs": [
        {
          "output_type": "stream",
          "name": "stdout",
          "text": [
            "Hello World\n",
            "Hello World\n",
            "Hello World\n",
            "Hello World\n",
            "Hello World\n"
          ]
        }
      ]
    },
    {
      "cell_type": "code",
      "source": [
        "print(\"Hello World\")\n",
        "print(\"Hello World\")\n",
        "print(\"Hello World\")\n",
        "print(\"Hello World\")\n",
        "print(\"Hello World\")\n",
        "print(\"Hello World\")\n",
        "print(\"Hello World\")\n",
        "print(\"Hello World\")\n",
        "print(\"Hello World\")\n",
        "print(\"Hello World\")"
      ],
      "metadata": {
        "colab": {
          "base_uri": "https://localhost:8080/"
        },
        "id": "Ng7zIbc6oQlF",
        "outputId": "4683e963-0625-4cf0-817e-7a5835806a23"
      },
      "execution_count": null,
      "outputs": [
        {
          "output_type": "stream",
          "name": "stdout",
          "text": [
            "Hello World\n",
            "Hello World\n",
            "Hello World\n",
            "Hello World\n",
            "Hello World\n",
            "Hello World\n",
            "Hello World\n",
            "Hello World\n",
            "Hello World\n",
            "Hello World\n"
          ]
        }
      ]
    },
    {
      "cell_type": "code",
      "source": [
        "for i in [0, 1, 2, 3, 4]:\n",
        "  print(\"Hello World\")"
      ],
      "metadata": {
        "colab": {
          "base_uri": "https://localhost:8080/"
        },
        "id": "mVy56JvQoiD2",
        "outputId": "aabe2e83-cec3-4b8e-d5ec-f7cdd1b16f2c"
      },
      "execution_count": null,
      "outputs": [
        {
          "output_type": "stream",
          "name": "stdout",
          "text": [
            "Hello World\n",
            "Hello World\n",
            "Hello World\n",
            "Hello World\n",
            "Hello World\n"
          ]
        }
      ]
    },
    {
      "cell_type": "code",
      "source": [
        "for i in range(10):\n",
        "  print(f\"Hello World {i}\")"
      ],
      "metadata": {
        "colab": {
          "base_uri": "https://localhost:8080/"
        },
        "id": "5xRiRzzjpf5n",
        "outputId": "c8072b55-c4fe-49db-89fb-4c11db946993"
      },
      "execution_count": null,
      "outputs": [
        {
          "output_type": "stream",
          "name": "stdout",
          "text": [
            "Hello World 0\n",
            "Hello World 1\n",
            "Hello World 2\n",
            "Hello World 3\n",
            "Hello World 4\n",
            "Hello World 5\n",
            "Hello World 6\n",
            "Hello World 7\n",
            "Hello World 8\n",
            "Hello World 9\n"
          ]
        }
      ]
    },
    {
      "cell_type": "code",
      "source": [
        "name = 'android'\n",
        "print('OS is Android')\n",
        "print(f\"OS is {name}\")"
      ],
      "metadata": {
        "colab": {
          "base_uri": "https://localhost:8080/"
        },
        "id": "QClmDgj0ppNq",
        "outputId": "28f097ef-a551-4aaf-e9fb-603a1b37cdc4"
      },
      "execution_count": null,
      "outputs": [
        {
          "output_type": "stream",
          "name": "stdout",
          "text": [
            "OS is android\n"
          ]
        }
      ]
    },
    {
      "cell_type": "code",
      "source": [
        "cnt = 10\n",
        "while cnt >= 0:\n",
        "   print(f'Hello {cnt}')\n",
        "   cnt = cnt - 1"
      ],
      "metadata": {
        "colab": {
          "base_uri": "https://localhost:8080/"
        },
        "id": "w5A-0J7qxDbH",
        "outputId": "7d43222a-d784-46ff-82a7-cf0d4b459c3a"
      },
      "execution_count": null,
      "outputs": [
        {
          "output_type": "stream",
          "name": "stdout",
          "text": [
            "Hello 10\n",
            "Hello 9\n",
            "Hello 8\n",
            "Hello 7\n",
            "Hello 6\n",
            "Hello 5\n",
            "Hello 4\n",
            "Hello 3\n",
            "Hello 2\n",
            "Hello 1\n",
            "Hello 0\n"
          ]
        }
      ]
    },
    {
      "cell_type": "code",
      "source": [
        "# few built-in functions\n",
        "type(10) # type of given value\n",
        "print('Hey Hi') # output the given string\n",
        "range(18) # give range of values between 0 to 18\n",
        "input('')\n",
        "int('11')\n",
        "float('11.90')\n",
        "bool('True')"
      ],
      "metadata": {
        "colab": {
          "base_uri": "https://localhost:8080/"
        },
        "id": "oOWBQpcOxesq",
        "outputId": "0b894880-3d88-4fbd-a435-2677ec42b959"
      },
      "execution_count": null,
      "outputs": [
        {
          "output_type": "stream",
          "name": "stdout",
          "text": [
            "Hey Hi\n"
          ]
        },
        {
          "output_type": "execute_result",
          "data": {
            "text/plain": [
              "range(0, 18)"
            ]
          },
          "metadata": {},
          "execution_count": 49
        }
      ]
    },
    {
      "cell_type": "code",
      "source": [
        "name = input('Whats Your name') # user can input the data\n",
        "print(f'My Name is {name}')"
      ],
      "metadata": {
        "colab": {
          "base_uri": "https://localhost:8080/"
        },
        "id": "VZNfG6rTx4Vm",
        "outputId": "ce2abeb8-a302-46ad-b58b-e132da9a0a6e"
      },
      "execution_count": null,
      "outputs": [
        {
          "output_type": "stream",
          "name": "stdout",
          "text": [
            "Whats Your nameaniruddha\n",
            "My Name is aniruddha\n"
          ]
        }
      ]
    },
    {
      "cell_type": "code",
      "source": [
        "while True:\n",
        "  cmd = input('Enter the Deatils: ')\n",
        "  print(cmd)\n",
        "\n",
        "  if cmd.lower() == 'exit':\n",
        "    break"
      ],
      "metadata": {
        "colab": {
          "base_uri": "https://localhost:8080/"
        },
        "id": "9GILZuSpzQC5",
        "outputId": "4e496a93-323b-481f-ed63-b074edf2a5ff"
      },
      "execution_count": null,
      "outputs": [
        {
          "output_type": "stream",
          "name": "stdout",
          "text": [
            "Enter the Deatils: ddf\n",
            "ddf\n",
            "Enter the Deatils: sdf\n",
            "sdf\n",
            "Enter the Deatils: ExIt\n",
            "ExIt\n"
          ]
        }
      ]
    },
    {
      "cell_type": "code",
      "source": [
        "str_num1 = '111'\n",
        "str_num2 = '111'\n",
        "\n",
        "print(str_num1 + str_num2)\n",
        "\n",
        "print('Before Conversion')\n",
        "print(type(str_num1))\n",
        "print(type(str_num2))\n",
        "\n",
        "# we need to convert strings to integer\n",
        "num1 = int(str_num1)\n",
        "num2 = int(str_num2)\n",
        "\n",
        "print('After Conversion')\n",
        "print(type(num1))\n",
        "print(type(num2))\n",
        "\n",
        "print(num1 + num2)\n"
      ],
      "metadata": {
        "colab": {
          "base_uri": "https://localhost:8080/"
        },
        "id": "O7slkZfp3iKW",
        "outputId": "7a00b5ba-3c76-4fc8-a9ab-e6fc0dd7131a"
      },
      "execution_count": null,
      "outputs": [
        {
          "output_type": "stream",
          "name": "stdout",
          "text": [
            "111111\n",
            "Before Conversion\n",
            "<class 'str'>\n",
            "<class 'str'>\n",
            "After Conversion\n",
            "<class 'int'>\n",
            "<class 'int'>\n",
            "222\n"
          ]
        }
      ]
    },
    {
      "cell_type": "code",
      "source": [
        "num1 = input('Num1')\n",
        "num2 = input('Num2')\n",
        "\n",
        "print(int(num1) + int(num2))"
      ],
      "metadata": {
        "colab": {
          "base_uri": "https://localhost:8080/"
        },
        "id": "rAEt8qiG5Ni4",
        "outputId": "652a5531-3730-41bb-8422-b3b22330fce5"
      },
      "execution_count": null,
      "outputs": [
        {
          "output_type": "stream",
          "name": "stdout",
          "text": [
            "Num112\n",
            "Num245\n",
            "57\n"
          ]
        }
      ]
    },
    {
      "cell_type": "code",
      "source": [
        "n = 90\n",
        "print(type(n))\n",
        "print(n)\n",
        "\n",
        "st =  str(n)\n",
        "print(type(st))\n",
        "print(st)"
      ],
      "metadata": {
        "colab": {
          "base_uri": "https://localhost:8080/"
        },
        "id": "oON0rZne5kB7",
        "outputId": "47ed1e5a-46d8-4d42-8c6f-af87fc4337fb"
      },
      "execution_count": null,
      "outputs": [
        {
          "output_type": "stream",
          "name": "stdout",
          "text": [
            "<class 'int'>\n",
            "90\n",
            "<class 'str'>\n",
            "90\n"
          ]
        }
      ]
    },
    {
      "cell_type": "code",
      "source": [
        "n1 = int('111') # expected condition"
      ],
      "metadata": {
        "id": "ZVUVOhvT7Z9C"
      },
      "execution_count": null,
      "outputs": []
    },
    {
      "cell_type": "code",
      "source": [
        "n2 = int('abc') # unwanted condition"
      ],
      "metadata": {
        "id": "-zGs_xrJ7oKv"
      },
      "execution_count": null,
      "outputs": []
    },
    {
      "cell_type": "code",
      "source": [
        "ip = input('Enter the Number')\n",
        "try:\n",
        "  # error prone code\n",
        "  num = int(ip) # code might generate error\n",
        "  print('Successful Conversion')\n",
        "except:\n",
        "  # your error handling mechanism\n",
        "  print('There is error')\n",
        "  num = 0\n",
        "finally:\n",
        "  print('I will execute all the time')"
      ],
      "metadata": {
        "colab": {
          "base_uri": "https://localhost:8080/"
        },
        "id": "nomfheac7_bM",
        "outputId": "e6ad826f-6ee6-48a3-c32a-8abc1bd0f997"
      },
      "execution_count": null,
      "outputs": [
        {
          "output_type": "stream",
          "name": "stdout",
          "text": [
            "Enter the Number43w54\n",
            "There is error\n"
          ]
        }
      ]
    }
  ]
}