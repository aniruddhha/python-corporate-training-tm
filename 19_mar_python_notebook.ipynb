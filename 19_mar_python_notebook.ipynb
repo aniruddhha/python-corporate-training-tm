{
  "nbformat": 4,
  "nbformat_minor": 0,
  "metadata": {
    "colab": {
      "provenance": []
    },
    "kernelspec": {
      "name": "python3",
      "display_name": "Python 3"
    },
    "language_info": {
      "name": "python"
    }
  },
  "cells": [
    {
      "cell_type": "markdown",
      "source": [
        "# **Batch 03: Python Programming**\n",
        "\n",
        "https://www.learnpython.org/"
      ],
      "metadata": {
        "id": "GaVC9E0_xnH1"
      }
    },
    {
      "cell_type": "code",
      "execution_count": 4,
      "metadata": {
        "colab": {
          "base_uri": "https://localhost:8080/"
        },
        "id": "5GkwZOeVrbBL",
        "outputId": "4a927638-b6ce-4151-a937-16c8e619a5aa"
      },
      "outputs": [
        {
          "output_type": "stream",
          "name": "stdout",
          "text": [
            "Welcome to Python\n"
          ]
        }
      ],
      "source": [
        "print('Welcome to Python')"
      ]
    },
    {
      "cell_type": "markdown",
      "source": [
        "## **Variables, Data Types, and Operators**"
      ],
      "metadata": {
        "id": "0Q_VT8dxxy3a"
      }
    },
    {
      "cell_type": "code",
      "source": [
        "# this is python notebook, this is comment."
      ],
      "metadata": {
        "id": "CgDq5dYFyJ1e"
      },
      "execution_count": 15,
      "outputs": []
    },
    {
      "cell_type": "code",
      "source": [
        "# employee health history\n",
        "\n",
        "56\n",
        "78.67\n",
        "'abc'\n",
        "True"
      ],
      "metadata": {
        "colab": {
          "base_uri": "https://localhost:8080/"
        },
        "id": "by4pmD9-y0NR",
        "outputId": "f51f086c-df73-41dc-cc3b-e19ce1a06cf9"
      },
      "execution_count": 19,
      "outputs": [
        {
          "output_type": "execute_result",
          "data": {
            "text/plain": [
              "True"
            ]
          },
          "metadata": {},
          "execution_count": 19
        }
      ]
    },
    {
      "cell_type": "code",
      "source": [
        "# employee health history\n",
        "\n",
        "print(56)\n",
        "print(78.67)\n",
        "print('abc')\n",
        "print(True)"
      ],
      "metadata": {
        "colab": {
          "base_uri": "https://localhost:8080/"
        },
        "id": "KcBJcnxzzWKN",
        "outputId": "68f174ea-f89c-4875-ebb9-eb29cdc752b9"
      },
      "execution_count": 20,
      "outputs": [
        {
          "output_type": "stream",
          "name": "stdout",
          "text": [
            "56\n",
            "78.67\n",
            "abc\n",
            "True\n"
          ]
        }
      ]
    },
    {
      "cell_type": "code",
      "source": [
        "# naming the values is called, defining variables\n",
        "\n",
        "age=56 # number\n",
        "weight=78.67 # decimal number\n",
        "name='John Doe'  # group of characters -> string\n",
        "is_dibetic=True # boolean"
      ],
      "metadata": {
        "id": "ipXxVEshzeha"
      },
      "execution_count": 29,
      "outputs": []
    },
    {
      "cell_type": "code",
      "source": [
        "print(age)\n",
        "print(weight)\n",
        "print(name)\n",
        "print(is_dibetic)"
      ],
      "metadata": {
        "colab": {
          "base_uri": "https://localhost:8080/"
        },
        "id": "2tt8Z9kTz3uN",
        "outputId": "a8a50d52-9cfe-4b2f-aed9-432e85f73b48"
      },
      "execution_count": 26,
      "outputs": [
        {
          "output_type": "stream",
          "name": "stdout",
          "text": [
            "56\n",
            "78.67\n",
            "abc\n",
            "True\n"
          ]
        }
      ]
    },
    {
      "cell_type": "code",
      "source": [
        "print(type(45))\n",
        "print(type(78.62))\n",
        "print(type('John Doe'))\n",
        "print(type(False))"
      ],
      "metadata": {
        "colab": {
          "base_uri": "https://localhost:8080/"
        },
        "id": "6C5fSBgl4YH4",
        "outputId": "90ad9258-9a47-486b-d446-02e5fa762dd7"
      },
      "execution_count": 30,
      "outputs": [
        {
          "output_type": "stream",
          "name": "stdout",
          "text": [
            "<class 'int'>\n",
            "<class 'float'>\n",
            "<class 'str'>\n",
            "<class 'bool'>\n"
          ]
        }
      ]
    },
    {
      "cell_type": "code",
      "source": [
        "print(type(age))\n",
        "print(type(weight))\n",
        "print(type(name))\n",
        "print(type(is_dibetic))"
      ],
      "metadata": {
        "colab": {
          "base_uri": "https://localhost:8080/"
        },
        "id": "eiTHJB0W4253",
        "outputId": "9788b8b4-f958-470d-e437-3b70192d7ba9"
      },
      "execution_count": 31,
      "outputs": [
        {
          "output_type": "stream",
          "name": "stdout",
          "text": [
            "<class 'int'>\n",
            "<class 'float'>\n",
            "<class 'str'>\n",
            "<class 'bool'>\n"
          ]
        }
      ]
    },
    {
      "cell_type": "code",
      "source": [
        "\n",
        "num1 = 10\n",
        "num2 = 78\n",
        "\n",
        "# Arithmatic Operators\n",
        "\n",
        "res = num1 + num2\n",
        "print(res)\n",
        "\n",
        "res = num1 - num2\n",
        "print(res)\n",
        "\n",
        "res = num1 * num2\n",
        "print(res)\n",
        "\n",
        "res = num1 / num2\n",
        "print(res)\n",
        "\n",
        "res = num1 % num2\n",
        "print(res)"
      ],
      "metadata": {
        "colab": {
          "base_uri": "https://localhost:8080/"
        },
        "id": "GqNxdQ4d5JiQ",
        "outputId": "36ce90b7-35b4-48b9-b233-4308afe81f5a"
      },
      "execution_count": 39,
      "outputs": [
        {
          "output_type": "stream",
          "name": "stdout",
          "text": [
            "88\n",
            "-68\n",
            "780\n",
            "0.1282051282051282\n",
            "10\n"
          ]
        }
      ]
    },
    {
      "cell_type": "code",
      "source": [
        "# Logical Operators\n",
        "\n",
        "print(True and True)\n",
        "print(True and False)\n",
        "print(False or True)\n",
        "print(False or False)\n",
        "\n",
        "num1 = 90\n",
        "num2 = 89\n",
        "\n",
        "print('Comparision and Logical')\n",
        "print(num1 > 80 and num2 > 80)\n",
        "print(num1 > 80 or num2 > 80)"
      ],
      "metadata": {
        "colab": {
          "base_uri": "https://localhost:8080/"
        },
        "id": "79vcNS-M6mLW",
        "outputId": "5e5efec5-e729-4bdf-c533-db4fd03ac1bf"
      },
      "execution_count": 47,
      "outputs": [
        {
          "output_type": "stream",
          "name": "stdout",
          "text": [
            "True\n",
            "False\n",
            "True\n",
            "False\n",
            "Comparision and Logical\n",
            "True\n",
            "True\n"
          ]
        }
      ]
    },
    {
      "cell_type": "code",
      "source": [
        "age = 45\n",
        "print('Age is 90')\n",
        "print(f'Age is {age} {num1} {num2}') # formatted outputs"
      ],
      "metadata": {
        "colab": {
          "base_uri": "https://localhost:8080/"
        },
        "id": "ZVGYGET17kGX",
        "outputId": "0e6ca4e9-3dd3-429c-f20f-9a3c666fd18c"
      },
      "execution_count": 45,
      "outputs": [
        {
          "output_type": "stream",
          "name": "stdout",
          "text": [
            "Age is 90\n",
            "Age is 45 90 89\n"
          ]
        }
      ]
    },
    {
      "cell_type": "markdown",
      "source": [
        "# **Functions -> Methods -> Definitions**"
      ],
      "metadata": {
        "id": "7r7rBnB_8uWA"
      }
    },
    {
      "cell_type": "code",
      "source": [
        "num1 = 78\n",
        "num2 = 589\n",
        "\n",
        "rs = num1 + num2 # business logic\n",
        "print(f'Addition is {rs}')"
      ],
      "metadata": {
        "colab": {
          "base_uri": "https://localhost:8080/"
        },
        "id": "0M5_kmjJ8xCI",
        "outputId": "505d6578-90b7-4ab6-d1ac-551ea1e36350"
      },
      "execution_count": 48,
      "outputs": [
        {
          "output_type": "stream",
          "name": "stdout",
          "text": [
            "Addition is 667\n"
          ]
        }
      ]
    },
    {
      "cell_type": "code",
      "source": [
        "num1 = 41\n",
        "num2 = 29\n",
        "\n",
        "rs = num1 + num2 # business logic\n",
        "print(f'Addition is {rs}')"
      ],
      "metadata": {
        "colab": {
          "base_uri": "https://localhost:8080/"
        },
        "id": "i5zy4q9p856d",
        "outputId": "871c6c1f-0b16-44ab-b0a3-073b80142863"
      },
      "execution_count": 49,
      "outputs": [
        {
          "output_type": "stream",
          "name": "stdout",
          "text": [
            "Addition is 70\n"
          ]
        }
      ]
    },
    {
      "cell_type": "code",
      "source": [
        "num1 = 110\n",
        "num2 = 789\n",
        "\n",
        "rs = num1 + num2 # business logic\n",
        "print(f'Addition is {rs}')"
      ],
      "metadata": {
        "colab": {
          "base_uri": "https://localhost:8080/"
        },
        "id": "0fH1X3Ww9BMM",
        "outputId": "8450197d-5d5b-425f-c22f-8e41b62541e4"
      },
      "execution_count": 50,
      "outputs": [
        {
          "output_type": "stream",
          "name": "stdout",
          "text": [
            "Addition is 899\n"
          ]
        }
      ]
    },
    {
      "cell_type": "code",
      "source": [
        "# definition of function\n",
        "def sum(n1 , n2):\n",
        "\n",
        "  print(f'Addition is {n1 + n2}')\n",
        "\n",
        "print('Simple Sum Demo')\n"
      ],
      "metadata": {
        "colab": {
          "base_uri": "https://localhost:8080/"
        },
        "id": "lbXFTRvf9jrF",
        "outputId": "bd079c25-7294-4767-ab56-e2256b64332a"
      },
      "execution_count": 79,
      "outputs": [
        {
          "output_type": "stream",
          "name": "stdout",
          "text": [
            "Simple Sum Demo\n"
          ]
        }
      ]
    },
    {
      "cell_type": "code",
      "source": [
        "# call the function\n",
        "sum(12, 90) # n1 = 12, n2 = 90\n",
        "sum(78, 89) # n1 = 78, n2 = 89\n",
        "sum(100, 200) # n1 = 100, n2 = 200"
      ],
      "metadata": {
        "colab": {
          "base_uri": "https://localhost:8080/"
        },
        "id": "2flYVCXk9vRR",
        "outputId": "370f0b0f-597f-4f15-ef93-d0c20513abdd"
      },
      "execution_count": 80,
      "outputs": [
        {
          "output_type": "stream",
          "name": "stdout",
          "text": [
            "Addition is 102\n",
            "Addition is 167\n",
            "Addition is 300\n"
          ]
        }
      ]
    },
    {
      "cell_type": "markdown",
      "source": [
        "## **Conditional Statements**"
      ],
      "metadata": {
        "id": "deJLhMi7G6y_"
      }
    },
    {
      "cell_type": "code",
      "source": [
        "marks = 56\n",
        "\n",
        "if marks >= 40:\n",
        "  print('Pass')\n",
        "else:\n",
        "  print('Fail')"
      ],
      "metadata": {
        "id": "r3p3cj8iG6Ii"
      },
      "execution_count": null,
      "outputs": []
    },
    {
      "cell_type": "code",
      "source": [
        "marks = 90\n",
        "\n",
        "if marks >= 40 and marks < 50:\n",
        "  print('Pass')\n",
        "elif marks > 51 and marks < 65 :\n",
        "  print('Second Class')\n",
        "elif marks > 66 and marks < 75 :\n",
        "  print('First Class')\n",
        "elif marks >= 76 :\n",
        "  print('Distinction')\n",
        "else:\n",
        "  print('Fail')\n"
      ],
      "metadata": {
        "colab": {
          "base_uri": "https://localhost:8080/"
        },
        "id": "zv_drD9SHOrr",
        "outputId": "90185084-5edb-4633-fea0-98f192f8a812"
      },
      "execution_count": 90,
      "outputs": [
        {
          "output_type": "stream",
          "name": "stdout",
          "text": [
            "Distinction\n"
          ]
        }
      ]
    },
    {
      "cell_type": "markdown",
      "source": [
        "## **Loops**"
      ],
      "metadata": {
        "id": "MFQd9HY_JgFf"
      }
    },
    {
      "cell_type": "code",
      "source": [
        "print('Hello World')\n",
        "print('Hello World')\n",
        "print('Hello World')\n",
        "print('Hello World')\n",
        "print('Hello World')"
      ],
      "metadata": {
        "colab": {
          "base_uri": "https://localhost:8080/"
        },
        "id": "7onoVeTvJfnN",
        "outputId": "d027d325-a8f1-4335-8137-99ea3da8bbce"
      },
      "execution_count": 91,
      "outputs": [
        {
          "output_type": "stream",
          "name": "stdout",
          "text": [
            "Hello World\n",
            "Hello World\n",
            "Hello World\n",
            "Hello World\n",
            "Hello World\n"
          ]
        }
      ]
    },
    {
      "cell_type": "code",
      "source": [
        "# for - if there fixed information\n",
        "# while - if there are uncertain info"
      ],
      "metadata": {
        "id": "On0q1NOAJ1ch"
      },
      "execution_count": null,
      "outputs": []
    },
    {
      "cell_type": "code",
      "source": [
        "for i in [1, 2, 3, 5, 6, 7, 8, 9, 10]:\n",
        "  print(f'Hello World {i}')"
      ],
      "metadata": {
        "id": "05kgNWu-J93U"
      },
      "execution_count": null,
      "outputs": []
    },
    {
      "cell_type": "code",
      "source": [
        "for i in range(30):\n",
        "  print(f'Hello World')"
      ],
      "metadata": {
        "id": "yoRhMi2mKi7N"
      },
      "execution_count": null,
      "outputs": []
    },
    {
      "cell_type": "code",
      "source": [
        "cnt = 0\n",
        "while cnt < 10:\n",
        "  print(cnt)\n",
        "  cnt = cnt + 1"
      ],
      "metadata": {
        "colab": {
          "base_uri": "https://localhost:8080/"
        },
        "id": "SEcbXVfdLJ80",
        "outputId": "f7d82932-614e-48f0-e78f-c3e3f9cabc6f"
      },
      "execution_count": 99,
      "outputs": [
        {
          "output_type": "stream",
          "name": "stdout",
          "text": [
            "0\n",
            "1\n",
            "2\n",
            "3\n",
            "4\n",
            "5\n",
            "6\n",
            "7\n",
            "8\n",
            "9\n"
          ]
        }
      ]
    },
    {
      "cell_type": "code",
      "source": [
        "name = input('Enter Your Name')\n",
        "print(f'My Name is {name}')"
      ],
      "metadata": {
        "colab": {
          "base_uri": "https://localhost:8080/"
        },
        "id": "vu0PORkQNi8V",
        "outputId": "327144a9-b9c8-4bc0-c65c-d57b5a7b0055"
      },
      "execution_count": 101,
      "outputs": [
        {
          "output_type": "stream",
          "name": "stdout",
          "text": [
            "Enter Your Nameaniruddha\n",
            "My Name is aniruddha\n"
          ]
        }
      ]
    },
    {
      "cell_type": "code",
      "source": [
        "while True:\n",
        "  print('Purchase Menu')\n",
        "  print('a) New Customer')\n",
        "  print('b) Customer Deatils')\n",
        "  print('c) Create Invoice')\n",
        "  print('d) exit')\n",
        "  print('Type a, b, c, or d')\n",
        "\n",
        "  choice = input('Enter Your Choice')\n",
        "  if choice == 'd':\n",
        "    print('User wants to exit')\n",
        "    break\n",
        "  elif choice == 'a':\n",
        "    print('User wants to create new customer')\n",
        "  elif choice == 'b':\n",
        "    print('User wants to see customer details')\n",
        "  elif choice == 'c':\n",
        "    print('User wants to create new invoice')\n"
      ],
      "metadata": {
        "colab": {
          "base_uri": "https://localhost:8080/"
        },
        "id": "TQkuEWAiN4Uq",
        "outputId": "aeffe6b8-8fb2-4452-af4f-da71a12c04e9"
      },
      "execution_count": 105,
      "outputs": [
        {
          "output_type": "stream",
          "name": "stdout",
          "text": [
            "Purchase Menu\n",
            "a) New Customer\n",
            "b) Customer Deatils\n",
            "c) Create Invoice\n",
            "d) exit\n",
            "Type a, b, c, or d\n",
            "Enter Your Choicea\n",
            "User wants to create new customer\n",
            "Purchase Menu\n",
            "a) New Customer\n",
            "b) Customer Deatils\n",
            "c) Create Invoice\n",
            "d) exit\n",
            "Type a, b, c, or d\n",
            "Enter Your Choiced\n",
            "User wants to exit\n"
          ]
        }
      ]
    },
    {
      "cell_type": "markdown",
      "source": [
        "## **Data Structures**"
      ],
      "metadata": {
        "id": "4MiQ7LAWQHoN"
      }
    },
    {
      "cell_type": "code",
      "source": [
        "# List - orderd mutable collection\n",
        "# list starts from 0th index\n",
        "names = ['abc', 'pqr', 'lmn', 'xyz']\n",
        "print(names)\n",
        "names.append('mno')\n",
        "names.append('xyz')\n",
        "print(names)\n",
        "print(names[0])"
      ],
      "metadata": {
        "colab": {
          "base_uri": "https://localhost:8080/"
        },
        "id": "FU07kwTXQHRl",
        "outputId": "2bf4cd96-da3e-46c8-b2a9-aadeb049cefb"
      },
      "execution_count": 114,
      "outputs": [
        {
          "output_type": "stream",
          "name": "stdout",
          "text": [
            "['abc', 'pqr', 'lmn', 'xyz']\n",
            "['abc', 'pqr', 'lmn', 'xyz', 'mno', 'xyz']\n",
            "abc\n"
          ]
        }
      ]
    },
    {
      "cell_type": "code",
      "source": [
        "# Tuple - ordered immutable collection\n",
        "# tuple starts from 0th index\n",
        "mobiles = (1231, 4679, 7412, 4569)\n",
        "# mobiles.append(7891)\n",
        "print(mobiles)\n",
        "print(mobiles[0])"
      ],
      "metadata": {
        "colab": {
          "base_uri": "https://localhost:8080/"
        },
        "id": "Wem_eImCQroX",
        "outputId": "1b0d7841-e4fe-4a99-e96d-61b5acf6cc21"
      },
      "execution_count": 115,
      "outputs": [
        {
          "output_type": "stream",
          "name": "stdout",
          "text": [
            "(1231, 4679, 7412, 4569)\n",
            "1231\n"
          ]
        }
      ]
    },
    {
      "cell_type": "code",
      "source": [
        "# Dictionary - key value pairs\n",
        "info = { 'page' : 300, 'author' : 'abc', 'name' : 'Rich Dad, Poor Dad'  }\n",
        "print(info)\n",
        "print(info['page'])"
      ],
      "metadata": {
        "colab": {
          "base_uri": "https://localhost:8080/"
        },
        "id": "2FrymGWjQs8V",
        "outputId": "cca70153-06b6-403a-e6f3-983fbea0bd31"
      },
      "execution_count": 117,
      "outputs": [
        {
          "output_type": "stream",
          "name": "stdout",
          "text": [
            "{'page': 300, 'author': 'abc', 'name': 'Rich Dad, Poor Dad'}\n",
            "300\n"
          ]
        }
      ]
    },
    {
      "cell_type": "code",
      "source": [
        "# Set - unordered mutable unique collection\n",
        "# set is not indexed\n",
        "pan_num = { 1, 2, 1, 3, 4, 3, 2, 4 }\n",
        "print(pan_num)\n",
        "pan_num.add(5)\n",
        "print(pan_num)\n",
        "# print(pan_num[0]) set will not have indices"
      ],
      "metadata": {
        "colab": {
          "base_uri": "https://localhost:8080/",
          "height": 216
        },
        "id": "UbEypbCzQuQ1",
        "outputId": "67742d59-a67d-4f09-a195-4540bce14bdc"
      },
      "execution_count": 116,
      "outputs": [
        {
          "output_type": "stream",
          "name": "stdout",
          "text": [
            "{1, 2, 3, 4}\n",
            "{1, 2, 3, 4, 5}\n"
          ]
        },
        {
          "output_type": "error",
          "ename": "TypeError",
          "evalue": "'set' object is not subscriptable",
          "traceback": [
            "\u001b[0;31m---------------------------------------------------------------------------\u001b[0m",
            "\u001b[0;31mTypeError\u001b[0m                                 Traceback (most recent call last)",
            "\u001b[0;32m<ipython-input-116-333f65305a2e>\u001b[0m in \u001b[0;36m<cell line: 0>\u001b[0;34m()\u001b[0m\n\u001b[1;32m      4\u001b[0m \u001b[0mpan_num\u001b[0m\u001b[0;34m.\u001b[0m\u001b[0madd\u001b[0m\u001b[0;34m(\u001b[0m\u001b[0;36m5\u001b[0m\u001b[0;34m)\u001b[0m\u001b[0;34m\u001b[0m\u001b[0;34m\u001b[0m\u001b[0m\n\u001b[1;32m      5\u001b[0m \u001b[0mprint\u001b[0m\u001b[0;34m(\u001b[0m\u001b[0mpan_num\u001b[0m\u001b[0;34m)\u001b[0m\u001b[0;34m\u001b[0m\u001b[0;34m\u001b[0m\u001b[0m\n\u001b[0;32m----> 6\u001b[0;31m \u001b[0mprint\u001b[0m\u001b[0;34m(\u001b[0m\u001b[0mpan_num\u001b[0m\u001b[0;34m[\u001b[0m\u001b[0;36m0\u001b[0m\u001b[0;34m]\u001b[0m\u001b[0;34m)\u001b[0m\u001b[0;34m\u001b[0m\u001b[0;34m\u001b[0m\u001b[0m\n\u001b[0m",
            "\u001b[0;31mTypeError\u001b[0m: 'set' object is not subscriptable"
          ]
        }
      ]
    },
    {
      "cell_type": "code",
      "source": [
        "# Numpy - Data Manipulation\n",
        "# Pandas - Data Analysis\n",
        "# Matplotlib - Data Visualize\n",
        "\n",
        "# Go to above things only after mastering python\n",
        "# https://jakevdp.github.io/PythonDataScienceHandbook/"
      ],
      "metadata": {
        "id": "1JCAtvENTpcm"
      },
      "execution_count": null,
      "outputs": []
    }
  ]
}