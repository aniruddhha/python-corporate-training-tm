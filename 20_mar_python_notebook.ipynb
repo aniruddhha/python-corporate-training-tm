{
  "nbformat": 4,
  "nbformat_minor": 0,
  "metadata": {
    "colab": {
      "provenance": []
    },
    "kernelspec": {
      "name": "python3",
      "display_name": "Python 3"
    },
    "language_info": {
      "name": "python"
    }
  },
  "cells": [
    {
      "cell_type": "markdown",
      "source": [
        "# **Batch 04: Python Programming**\n",
        "https://www.learnpython.org/"
      ],
      "metadata": {
        "id": "y4wdjZLK5SPD"
      }
    },
    {
      "cell_type": "markdown",
      "source": [
        "## ***Variables, Data Types and Operator***"
      ],
      "metadata": {
        "id": "IJmYGlch5eXi"
      }
    },
    {
      "cell_type": "code",
      "source": [
        "# print('hey hi') anything preceeded with # is called comment;\n",
        "# comments are not interpreted by python\n",
        "print('hey hello')"
      ],
      "metadata": {
        "colab": {
          "base_uri": "https://localhost:8080/"
        },
        "id": "kwwXwUqp5HHq",
        "outputId": "d36436f6-e9a6-4cfa-f6c3-ce5ee036fd59"
      },
      "execution_count": 11,
      "outputs": [
        {
          "output_type": "stream",
          "name": "stdout",
          "text": [
            "hey hello\n"
          ]
        }
      ]
    },
    {
      "cell_type": "code",
      "source": [
        "print('hey hi')\n",
        "print('hey hello')"
      ],
      "metadata": {
        "colab": {
          "base_uri": "https://localhost:8080/"
        },
        "id": "A1ShzJtD6lJI",
        "outputId": "7a7d0e06-5a0b-499a-a127-098872ce9624"
      },
      "execution_count": 9,
      "outputs": [
        {
          "output_type": "stream",
          "name": "stdout",
          "text": [
            "hey hi\n",
            "hey hello\n"
          ]
        }
      ]
    },
    {
      "cell_type": "code",
      "source": [
        "# employee health deatils\n",
        "\n",
        "# age 40 (number) years,\n",
        "# weight 78.5kg (decimal number),\n",
        "# name John Doe (text),\n",
        "# dibetic yes (boolean)"
      ],
      "metadata": {
        "id": "kxjXRH4a7Aiy"
      },
      "execution_count": 14,
      "outputs": []
    },
    {
      "cell_type": "code",
      "source": [
        "40 # data type is number -> int\n",
        "78.5 # data type is decimal number -> float\n",
        "\"John Doe\" # data type is text -> string\n",
        "True # data type is boolean -> bool\n",
        "\n",
        "print(40)\n",
        "print(78.5)\n",
        "print(\"John Doe\")\n",
        "print(True)"
      ],
      "metadata": {
        "colab": {
          "base_uri": "https://localhost:8080/"
        },
        "id": "j1Nx1Jpu8igv",
        "outputId": "d2e3e188-e683-4507-ba53-6b059bd0b0f6"
      },
      "execution_count": 15,
      "outputs": [
        {
          "output_type": "stream",
          "name": "stdout",
          "text": [
            "40\n",
            "78.5\n",
            "John Doe\n",
            "True\n"
          ]
        }
      ]
    },
    {
      "cell_type": "code",
      "source": [
        "efkjghghgeklfjhgejklffhgklejfg = 40\n",
        "jksfghjklefwghkjsfhgejkwg = 78.5\n",
        "kjwdfgkswjgefjkwg = \"John Doe\"\n",
        "aswdlfgwkghwk = True"
      ],
      "metadata": {
        "id": "U5PwnPRS8zzt"
      },
      "execution_count": null,
      "outputs": []
    },
    {
      "cell_type": "code",
      "source": [
        "age = 45\n",
        "weight = 78.5\n",
        "name = \"John Doe\"\n",
        "is_dibetic = True"
      ],
      "metadata": {
        "id": "5PhcPAQC9jZi"
      },
      "execution_count": 26,
      "outputs": []
    },
    {
      "cell_type": "markdown",
      "source": [
        "Python Naming Conventions https://peps.python.org/pep-0008/\n"
      ],
      "metadata": {
        "id": "KIegGYpo-LDc"
      }
    },
    {
      "cell_type": "code",
      "source": [
        "print(age)\n",
        "print(weight)\n",
        "print(name)\n",
        "print(is_dibetic)"
      ],
      "metadata": {
        "colab": {
          "base_uri": "https://localhost:8080/"
        },
        "id": "kfkPdgOW-PdV",
        "outputId": "61632b62-b58d-44ed-959c-89ea161b9c0b"
      },
      "execution_count": 27,
      "outputs": [
        {
          "output_type": "stream",
          "name": "stdout",
          "text": [
            "45\n",
            "78.5\n",
            "John Doe\n",
            "True\n"
          ]
        }
      ]
    },
    {
      "cell_type": "code",
      "source": [
        "print('Age is age')\n",
        "print('Age is 40')\n",
        "print(f'Age is {age}')"
      ],
      "metadata": {
        "colab": {
          "base_uri": "https://localhost:8080/"
        },
        "id": "SQizlr18_odR",
        "outputId": "636e7f50-1267-4ac0-b59b-cd4a3e78a5bf"
      },
      "execution_count": 28,
      "outputs": [
        {
          "output_type": "stream",
          "name": "stdout",
          "text": [
            "Age is age\n",
            "Age is 40\n",
            "Age is 45\n"
          ]
        }
      ]
    },
    {
      "cell_type": "code",
      "source": [
        "num1 = 90\n",
        "num2 = 78\n",
        "\n",
        "# Arithmatic Operators\n",
        "res = num1 + num2\n",
        "print(f'Addtion is {res}')\n",
        "\n",
        "res = num1 - num2\n",
        "print(f'Subtraction is {res}')\n",
        "\n",
        "res = num1 * num2\n",
        "print(f'Multiplication is {res}')\n",
        "\n",
        "res = num1 / num2\n",
        "print(f'Division is {res}')\n",
        "\n",
        "# Comparision Operators\n",
        "res = num1 > num2\n",
        "print(f'Greater than is {res}')\n",
        "\n",
        "res = num1 < num2\n",
        "print(f'Less than is {res}')\n"
      ],
      "metadata": {
        "colab": {
          "base_uri": "https://localhost:8080/"
        },
        "id": "QVFAyEulCDNJ",
        "outputId": "503650a1-dbcb-4d10-aa83-d3800f68604e"
      },
      "execution_count": 30,
      "outputs": [
        {
          "output_type": "stream",
          "name": "stdout",
          "text": [
            "Addtion is 168\n",
            "Subtraction is 12\n",
            "Multiplication is 7020\n",
            "Division is 1.1538461538461537\n",
            "Greater than is True\n",
            "Less than is False\n"
          ]
        }
      ]
    },
    {
      "cell_type": "code",
      "source": [
        "num1 = 30\n",
        "num2 = 43\n",
        "res = num1 + num2 # business logic\n",
        "print(f'Addition is {res}')"
      ],
      "metadata": {
        "colab": {
          "base_uri": "https://localhost:8080/"
        },
        "id": "OoXO5gbwEada",
        "outputId": "b5ffaa1e-74db-4a27-a9b7-c8e43b55d9f7"
      },
      "execution_count": 34,
      "outputs": [
        {
          "output_type": "stream",
          "name": "stdout",
          "text": [
            "Addition is 73\n"
          ]
        }
      ]
    },
    {
      "cell_type": "code",
      "source": [
        "num1 = 34\n",
        "num2 = res\n",
        "res = num1 + num2 # business logic\n",
        "print(f'Addition is {res}')"
      ],
      "metadata": {
        "colab": {
          "base_uri": "https://localhost:8080/"
        },
        "id": "Wmvo0e5FE0yT",
        "outputId": "8c3d7f5e-85f0-4f42-8066-1f3f77fceaec"
      },
      "execution_count": 35,
      "outputs": [
        {
          "output_type": "stream",
          "name": "stdout",
          "text": [
            "Addition is 107\n"
          ]
        }
      ]
    },
    {
      "cell_type": "code",
      "source": [
        "num1 = 65\n",
        "num2 = res\n",
        "res = num1 + num2 # business logic\n",
        "print(f'Addition is {res}')"
      ],
      "metadata": {
        "colab": {
          "base_uri": "https://localhost:8080/"
        },
        "id": "ynvoEEN2E6AU",
        "outputId": "b83d803b-efe9-48fc-fd71-b54f735e17a4"
      },
      "execution_count": 36,
      "outputs": [
        {
          "output_type": "stream",
          "name": "stdout",
          "text": [
            "Addition is 172\n"
          ]
        }
      ]
    },
    {
      "cell_type": "markdown",
      "source": [
        "## **Functions**"
      ],
      "metadata": {
        "id": "0HaSRgWzFGP8"
      }
    },
    {
      "cell_type": "code",
      "source": [
        "# we defined our own function\n",
        "\n",
        "def add_two_numbers(num1, num2):\n",
        "  res = num1 + num2 # business logic\n",
        "  print(f'Addition is {res}')\n",
        "\n",
        "print('Anything') # this line is not a part of function body"
      ],
      "metadata": {
        "colab": {
          "base_uri": "https://localhost:8080/"
        },
        "id": "SO9Y2eQ3FFuo",
        "outputId": "28cce430-4ef6-4e18-fd81-671b249f4114"
      },
      "execution_count": 39,
      "outputs": [
        {
          "output_type": "stream",
          "name": "stdout",
          "text": [
            "Anything\n"
          ]
        }
      ]
    },
    {
      "cell_type": "code",
      "source": [
        "# Now we need to call our own function\n",
        "\n",
        "add_two_numbers(10, 20)\n",
        "add_two_numbers(56, 45)\n",
        "add_two_numbers(34, 56)"
      ],
      "metadata": {
        "colab": {
          "base_uri": "https://localhost:8080/"
        },
        "id": "l_Zcdjr0FdF6",
        "outputId": "2ec36b59-f37d-4b3b-da0e-5598d4c6c38f"
      },
      "execution_count": 40,
      "outputs": [
        {
          "output_type": "stream",
          "name": "stdout",
          "text": [
            "Addition is 30\n",
            "Addition is 101\n",
            "Addition is 90\n"
          ]
        }
      ]
    },
    {
      "cell_type": "markdown",
      "source": [
        "## **Conditional Statements**"
      ],
      "metadata": {
        "id": "SGS9zsTIHbfB"
      }
    },
    {
      "cell_type": "code",
      "source": [
        "marks = 102\n",
        "\n",
        "if marks > 40 and marks <= 50:\n",
        "  print(\"Grade D\")\n",
        "elif marks > 50 and marks <= 60:\n",
        "  print(\"Grade C\")\n",
        "elif marks > 60 and marks <= 70:\n",
        "  print(\"Grade B\")\n",
        "elif marks > 70 and marks <= 80:\n",
        "  print(\"Grade A\")\n",
        "elif marks > 80 and marks <= 100:\n",
        "  print(\"First Class\")\n",
        "else:\n",
        "  print(\"Fail\")\n"
      ],
      "metadata": {
        "colab": {
          "base_uri": "https://localhost:8080/"
        },
        "id": "qc-Yg8O_HbJ-",
        "outputId": "241a0d27-eb5a-4d6b-acaa-696f58e280fc"
      },
      "execution_count": 48,
      "outputs": [
        {
          "output_type": "stream",
          "name": "stdout",
          "text": [
            "Fail\n"
          ]
        }
      ]
    },
    {
      "cell_type": "markdown",
      "source": [
        "## **Loops**"
      ],
      "metadata": {
        "id": "nsw34IaVIc8A"
      }
    },
    {
      "cell_type": "code",
      "source": [
        "print('Hello World')\n",
        "print('Hello World')\n",
        "print('Hello World')\n",
        "print('Hello World')\n",
        "print('Hello World')"
      ],
      "metadata": {
        "colab": {
          "base_uri": "https://localhost:8080/"
        },
        "id": "FpVqyYhTNFhP",
        "outputId": "e0c84c0d-88ce-4ee0-b398-a18dd20378e4"
      },
      "execution_count": 50,
      "outputs": [
        {
          "output_type": "stream",
          "name": "stdout",
          "text": [
            "Hello World\n",
            "Hello World\n",
            "Hello World\n",
            "Hello World\n",
            "Hello World\n"
          ]
        }
      ]
    },
    {
      "cell_type": "code",
      "source": [
        "print('Hello World')\n",
        "print('Hello World')\n",
        "print('Hello World')\n",
        "print('Hello World')\n",
        "print('Hello World')\n",
        "\n",
        "print('Hello World')\n",
        "print('Hello World')\n",
        "print('Hello World')\n",
        "print('Hello World')\n",
        "print('Hello World')"
      ],
      "metadata": {
        "colab": {
          "base_uri": "https://localhost:8080/"
        },
        "id": "r1lVeUxHNiIL",
        "outputId": "dbcae04c-6ffa-4c67-b880-7ab51b16fced"
      },
      "execution_count": 51,
      "outputs": [
        {
          "output_type": "stream",
          "name": "stdout",
          "text": [
            "Hello World\n",
            "Hello World\n",
            "Hello World\n",
            "Hello World\n",
            "Hello World\n",
            "Hello World\n",
            "Hello World\n",
            "Hello World\n",
            "Hello World\n",
            "Hello World\n"
          ]
        }
      ]
    },
    {
      "cell_type": "code",
      "source": [
        "# for - for known iterations\n",
        "# while - for unknown iterations"
      ],
      "metadata": {
        "id": "d4QLxoR2Njub"
      },
      "execution_count": null,
      "outputs": []
    },
    {
      "cell_type": "code",
      "source": [
        "for i in [1, 2, 3, 4, 5]:\n",
        "  print(f'Hello World {i}')"
      ],
      "metadata": {
        "colab": {
          "base_uri": "https://localhost:8080/"
        },
        "id": "hKue0TuxNweN",
        "outputId": "c4558006-a8de-4419-ef9b-2a5afb0874f6"
      },
      "execution_count": 53,
      "outputs": [
        {
          "output_type": "stream",
          "name": "stdout",
          "text": [
            "Hello World 1\n",
            "Hello World 2\n",
            "Hello World 3\n",
            "Hello World 4\n",
            "Hello World 5\n"
          ]
        }
      ]
    },
    {
      "cell_type": "code",
      "source": [
        "for i in range(50):\n",
        "  print(f'Hello World {i}')"
      ],
      "metadata": {
        "id": "VVhFTpxzOCAv"
      },
      "execution_count": null,
      "outputs": []
    },
    {
      "cell_type": "code",
      "source": [
        "cnt = 0\n",
        "while cnt < 10:\n",
        "  print(cnt)\n",
        "  cnt = cnt + 1"
      ],
      "metadata": {
        "colab": {
          "base_uri": "https://localhost:8080/"
        },
        "id": "4aFHE1TvOz6k",
        "outputId": "2e1e797f-5664-4006-eb29-340c33df2507"
      },
      "execution_count": 55,
      "outputs": [
        {
          "output_type": "stream",
          "name": "stdout",
          "text": [
            "0\n",
            "1\n",
            "2\n",
            "3\n",
            "4\n",
            "5\n",
            "6\n",
            "7\n",
            "8\n",
            "9\n"
          ]
        }
      ]
    },
    {
      "cell_type": "markdown",
      "source": [
        "## **Data Structures**"
      ],
      "metadata": {
        "id": "fZL4ZLjmQPZy"
      }
    },
    {
      "cell_type": "code",
      "source": [
        "marks1 = 20\n",
        "marks2 = 89\n",
        "marks3 = 85\n",
        "marks4 = 90\n",
        "marks5 = 92"
      ],
      "metadata": {
        "id": "V-8aHk3FQSgZ"
      },
      "execution_count": 56,
      "outputs": []
    },
    {
      "cell_type": "code",
      "source": [
        "# list - ordred mutable collection of data\n",
        "# mutable - data can be modified\n",
        "marks = [1, 2, -1, 78, 90, 2]\n",
        "print(marks)\n",
        "marks.append(100)\n",
        "marks.insert(1,1111 )\n",
        "print(marks)\n",
        "print(marks[0]) # element at 0th location, item at 0th index"
      ],
      "metadata": {
        "colab": {
          "base_uri": "https://localhost:8080/"
        },
        "id": "ipL2PNB_Qyyd",
        "outputId": "bc115dd8-86d3-41e4-df6b-0d5dfc111291"
      },
      "execution_count": 76,
      "outputs": [
        {
          "output_type": "stream",
          "name": "stdout",
          "text": [
            "[1, 2, -1, 78, 90, 2]\n",
            "[1, 1111, 2, -1, 78, 90, 2, 100]\n",
            "1\n"
          ]
        }
      ]
    },
    {
      "cell_type": "code",
      "source": [
        "# tuple - ordered immutable collection of data\n",
        "# immutable - data cant be modified, it is read only\n",
        "mobiles = (1, 2, -1, 78, 90, 2)\n",
        "# mobiles.append(900)\n",
        "print(mobiles)\n",
        "print(mobiles[3])"
      ],
      "metadata": {
        "colab": {
          "base_uri": "https://localhost:8080/"
        },
        "id": "nTFRJ-T_Q3Gv",
        "outputId": "97c6c150-a7e3-416d-a1d9-b2ad884a176d"
      },
      "execution_count": 77,
      "outputs": [
        {
          "output_type": "stream",
          "name": "stdout",
          "text": [
            "(1, 2, -1, 78, 90, 2)\n",
            "78\n"
          ]
        }
      ]
    },
    {
      "cell_type": "code",
      "source": [
        "# dictionary - key value pairs\n",
        "books = { 'pages' : 100, 'name' :'Rich Dad, Poor Dad' }\n",
        "print(books)\n",
        "books['price'] = 889\n",
        "print(books)\n",
        "print(books['pages'])"
      ],
      "metadata": {
        "colab": {
          "base_uri": "https://localhost:8080/"
        },
        "id": "wKqT4pIdQ5gX",
        "outputId": "4ada873d-831b-4f10-c46a-cb5fd7cc3e0d"
      },
      "execution_count": 79,
      "outputs": [
        {
          "output_type": "stream",
          "name": "stdout",
          "text": [
            "{'pages': 100, 'name': 'Rich Dad, Poor Dad'}\n",
            "{'pages': 100, 'name': 'Rich Dad, Poor Dad', 'price': 889}\n",
            "100\n"
          ]
        }
      ]
    },
    {
      "cell_type": "code",
      "source": [
        "# set - unordered mutable collection of unique data\n",
        "pans = { 3 , 1, 2, 1, 2, 4, 3, 4, 3 }\n",
        "print(pans)\n",
        "pans.add(122)\n",
        "pans.add(1)\n",
        "print(pans)\n",
        "# print(pans[3]) set are not indexed"
      ],
      "metadata": {
        "colab": {
          "base_uri": "https://localhost:8080/",
          "height": 216
        },
        "id": "q41p_ia_Q7io",
        "outputId": "fcecf33d-346f-4e39-986d-90251483455f"
      },
      "execution_count": 78,
      "outputs": [
        {
          "output_type": "stream",
          "name": "stdout",
          "text": [
            "{1, 2, 3, 4}\n",
            "{1, 2, 3, 4, 122}\n"
          ]
        },
        {
          "output_type": "error",
          "ename": "TypeError",
          "evalue": "'set' object is not subscriptable",
          "traceback": [
            "\u001b[0;31m---------------------------------------------------------------------------\u001b[0m",
            "\u001b[0;31mTypeError\u001b[0m                                 Traceback (most recent call last)",
            "\u001b[0;32m<ipython-input-78-a4285336f70b>\u001b[0m in \u001b[0;36m<cell line: 0>\u001b[0;34m()\u001b[0m\n\u001b[1;32m      5\u001b[0m \u001b[0mpans\u001b[0m\u001b[0;34m.\u001b[0m\u001b[0madd\u001b[0m\u001b[0;34m(\u001b[0m\u001b[0;36m1\u001b[0m\u001b[0;34m)\u001b[0m\u001b[0;34m\u001b[0m\u001b[0;34m\u001b[0m\u001b[0m\n\u001b[1;32m      6\u001b[0m \u001b[0mprint\u001b[0m\u001b[0;34m(\u001b[0m\u001b[0mpans\u001b[0m\u001b[0;34m)\u001b[0m\u001b[0;34m\u001b[0m\u001b[0;34m\u001b[0m\u001b[0m\n\u001b[0;32m----> 7\u001b[0;31m \u001b[0mprint\u001b[0m\u001b[0;34m(\u001b[0m\u001b[0mpans\u001b[0m\u001b[0;34m[\u001b[0m\u001b[0;36m3\u001b[0m\u001b[0;34m]\u001b[0m\u001b[0;34m)\u001b[0m\u001b[0;34m\u001b[0m\u001b[0;34m\u001b[0m\u001b[0m\n\u001b[0m",
            "\u001b[0;31mTypeError\u001b[0m: 'set' object is not subscriptable"
          ]
        }
      ]
    },
    {
      "cell_type": "markdown",
      "source": [
        "## **Error Handling**"
      ],
      "metadata": {
        "id": "pA4b6J0PXjw_"
      }
    },
    {
      "cell_type": "code",
      "source": [
        "num1 = 10\n",
        "num2 = 0\n",
        "\n",
        "try:\n",
        "  # error prone things would be written inside try block\n",
        "  res = num1/num2\n",
        "  # file is not exisisting, and your are reading file\n",
        "  # no internet, you making query to google\n",
        "  # hdd is not writable, and your are trying to write\n",
        "  # etx etx\n",
        "except:\n",
        "  # error handling mechanism would be written in except block\n",
        "  print('There is some error')\n"
      ],
      "metadata": {
        "colab": {
          "base_uri": "https://localhost:8080/"
        },
        "id": "naj9ZnJEXjZk",
        "outputId": "fb0875f9-e678-40b4-fae8-c31af386106e"
      },
      "execution_count": 82,
      "outputs": [
        {
          "output_type": "stream",
          "name": "stdout",
          "text": [
            "There is some error\n"
          ]
        }
      ]
    },
    {
      "cell_type": "markdown",
      "source": [
        "## **Future Tasks : AI and Data Science**"
      ],
      "metadata": {
        "id": "6e_WErQhZaoC"
      }
    },
    {
      "cell_type": "code",
      "source": [
        "# before starting these things, please master the python\n",
        "\n",
        "# numpy - Data Manipulation\n",
        "# pandas - Data Analaysis\n",
        "# matplotlib - Data Visulization"
      ],
      "metadata": {
        "id": "3ARdPZT5ZYeo"
      },
      "execution_count": null,
      "outputs": []
    }
  ]
}